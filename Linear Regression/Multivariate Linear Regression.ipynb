{
 "cells": [
  {
   "cell_type": "markdown",
   "metadata": {},
   "source": [
    "REMAINING:\n",
    " 6. Test with another data set\n"
   ]
  },
  {
   "cell_type": "markdown",
   "metadata": {},
   "source": [
    "# Multivariate Linear Regression Using Batch Gradient Descent Optimisation\n",
    "\n",
    "Aim: Using information about abalone to predict number of rings inside the shell.\n",
    "\n",
    "Procedure:\n",
    "1. The dataset is divided into 20% test, and 80% training data.\n",
    "2. The parameters of multivariate regression are found.\n",
    "3. Basis for accuracy is mean root square error from actual number of rings.\n",
    "4. Analysis is done as specified below.\n",
    "\n",
    "To analyse:\n",
    "1. If you vary alpha, how is J($\\theta$) varying?\n",
    "2. With and without normalisation, how is the gradient changing - use a contour graph.\n",
    "3. Similarly for regularisation.\n",
    "4. Similarly for lambda / lambda variation.\n",
    "\n",
    "Note:\n",
    "1. The dataset information can be found in the submitted folder in a file named, 'abalone_names.txt'.\n",
    "\n",
    "Team Members in Chronological Order:\n",
    "1. 177109 - Ashwin Ganesan\n",
    "2. 177110 - Suraj Baradhi\n",
    "3. 177154 - Rudraksh Kapil\n",
    "4. 177246 - Pranav Pradeep"
   ]
  },
  {
   "cell_type": "markdown",
   "metadata": {},
   "source": [
    "##### Step 1: Get Dataset"
   ]
  },
  {
   "cell_type": "code",
   "execution_count": 57,
   "metadata": {
    "scrolled": true
   },
   "outputs": [
    {
     "data": {
      "text/html": [
       "<div>\n",
       "<style scoped>\n",
       "    .dataframe tbody tr th:only-of-type {\n",
       "        vertical-align: middle;\n",
       "    }\n",
       "\n",
       "    .dataframe tbody tr th {\n",
       "        vertical-align: top;\n",
       "    }\n",
       "\n",
       "    .dataframe thead th {\n",
       "        text-align: right;\n",
       "    }\n",
       "</style>\n",
       "<table border=\"1\" class=\"dataframe\">\n",
       "  <thead>\n",
       "    <tr style=\"text-align: right;\">\n",
       "      <th></th>\n",
       "      <th>b</th>\n",
       "      <th>c</th>\n",
       "      <th>d</th>\n",
       "      <th>d.1</th>\n",
       "      <th>d.2</th>\n",
       "      <th>d.3</th>\n",
       "      <th>d.4</th>\n",
       "      <th>d.5</th>\n",
       "      <th>d.6</th>\n",
       "      <th>D</th>\n",
       "    </tr>\n",
       "  </thead>\n",
       "  <tbody>\n",
       "    <tr>\n",
       "      <td>0</td>\n",
       "      <td>5</td>\n",
       "      <td>1</td>\n",
       "      <td>1</td>\n",
       "      <td>1</td>\n",
       "      <td>2</td>\n",
       "      <td>1</td>\n",
       "      <td>3</td>\n",
       "      <td>1</td>\n",
       "      <td>1</td>\n",
       "      <td>2</td>\n",
       "    </tr>\n",
       "    <tr>\n",
       "      <td>1</td>\n",
       "      <td>5</td>\n",
       "      <td>4</td>\n",
       "      <td>4</td>\n",
       "      <td>5</td>\n",
       "      <td>7</td>\n",
       "      <td>10</td>\n",
       "      <td>3</td>\n",
       "      <td>2</td>\n",
       "      <td>1</td>\n",
       "      <td>2</td>\n",
       "    </tr>\n",
       "    <tr>\n",
       "      <td>2</td>\n",
       "      <td>3</td>\n",
       "      <td>1</td>\n",
       "      <td>1</td>\n",
       "      <td>1</td>\n",
       "      <td>2</td>\n",
       "      <td>2</td>\n",
       "      <td>3</td>\n",
       "      <td>1</td>\n",
       "      <td>1</td>\n",
       "      <td>2</td>\n",
       "    </tr>\n",
       "    <tr>\n",
       "      <td>3</td>\n",
       "      <td>6</td>\n",
       "      <td>8</td>\n",
       "      <td>8</td>\n",
       "      <td>1</td>\n",
       "      <td>3</td>\n",
       "      <td>4</td>\n",
       "      <td>3</td>\n",
       "      <td>7</td>\n",
       "      <td>1</td>\n",
       "      <td>2</td>\n",
       "    </tr>\n",
       "    <tr>\n",
       "      <td>4</td>\n",
       "      <td>4</td>\n",
       "      <td>1</td>\n",
       "      <td>1</td>\n",
       "      <td>3</td>\n",
       "      <td>2</td>\n",
       "      <td>1</td>\n",
       "      <td>3</td>\n",
       "      <td>1</td>\n",
       "      <td>1</td>\n",
       "      <td>2</td>\n",
       "    </tr>\n",
       "    <tr>\n",
       "      <td>...</td>\n",
       "      <td>...</td>\n",
       "      <td>...</td>\n",
       "      <td>...</td>\n",
       "      <td>...</td>\n",
       "      <td>...</td>\n",
       "      <td>...</td>\n",
       "      <td>...</td>\n",
       "      <td>...</td>\n",
       "      <td>...</td>\n",
       "      <td>...</td>\n",
       "    </tr>\n",
       "    <tr>\n",
       "      <td>694</td>\n",
       "      <td>3</td>\n",
       "      <td>1</td>\n",
       "      <td>1</td>\n",
       "      <td>1</td>\n",
       "      <td>3</td>\n",
       "      <td>2</td>\n",
       "      <td>1</td>\n",
       "      <td>1</td>\n",
       "      <td>1</td>\n",
       "      <td>2</td>\n",
       "    </tr>\n",
       "    <tr>\n",
       "      <td>695</td>\n",
       "      <td>2</td>\n",
       "      <td>1</td>\n",
       "      <td>1</td>\n",
       "      <td>1</td>\n",
       "      <td>2</td>\n",
       "      <td>1</td>\n",
       "      <td>1</td>\n",
       "      <td>1</td>\n",
       "      <td>1</td>\n",
       "      <td>2</td>\n",
       "    </tr>\n",
       "    <tr>\n",
       "      <td>696</td>\n",
       "      <td>5</td>\n",
       "      <td>10</td>\n",
       "      <td>10</td>\n",
       "      <td>3</td>\n",
       "      <td>7</td>\n",
       "      <td>3</td>\n",
       "      <td>8</td>\n",
       "      <td>10</td>\n",
       "      <td>2</td>\n",
       "      <td>4</td>\n",
       "    </tr>\n",
       "    <tr>\n",
       "      <td>697</td>\n",
       "      <td>4</td>\n",
       "      <td>8</td>\n",
       "      <td>6</td>\n",
       "      <td>4</td>\n",
       "      <td>3</td>\n",
       "      <td>4</td>\n",
       "      <td>10</td>\n",
       "      <td>6</td>\n",
       "      <td>1</td>\n",
       "      <td>4</td>\n",
       "    </tr>\n",
       "    <tr>\n",
       "      <td>698</td>\n",
       "      <td>4</td>\n",
       "      <td>8</td>\n",
       "      <td>8</td>\n",
       "      <td>5</td>\n",
       "      <td>4</td>\n",
       "      <td>5</td>\n",
       "      <td>10</td>\n",
       "      <td>4</td>\n",
       "      <td>1</td>\n",
       "      <td>4</td>\n",
       "    </tr>\n",
       "  </tbody>\n",
       "</table>\n",
       "<p>699 rows × 10 columns</p>\n",
       "</div>"
      ],
      "text/plain": [
       "     b   c   d  d.1  d.2  d.3  d.4  d.5  d.6  D\n",
       "0    5   1   1    1    2    1    3    1    1  2\n",
       "1    5   4   4    5    7   10    3    2    1  2\n",
       "2    3   1   1    1    2    2    3    1    1  2\n",
       "3    6   8   8    1    3    4    3    7    1  2\n",
       "4    4   1   1    3    2    1    3    1    1  2\n",
       "..  ..  ..  ..  ...  ...  ...  ...  ...  ... ..\n",
       "694  3   1   1    1    3    2    1    1    1  2\n",
       "695  2   1   1    1    2    1    1    1    1  2\n",
       "696  5  10  10    3    7    3    8   10    2  4\n",
       "697  4   8   6    4    3    4   10    6    1  4\n",
       "698  4   8   8    5    4    5   10    4    1  4\n",
       "\n",
       "[699 rows x 10 columns]"
      ]
     },
     "execution_count": 57,
     "metadata": {},
     "output_type": "execute_result"
    }
   ],
   "source": [
    "# import required packages\n",
    "import numpy as np\n",
    "import pandas as pd\n",
    "import matplotlib.pyplot as plt\n",
    "\n",
    "# read in the dataset as entered by terminal\n",
    "#path = input()\n",
    "dataframe = pd.read_csv('cancer.csv') \n",
    "dataframe"
   ]
  },
  {
   "cell_type": "code",
   "execution_count": 58,
   "metadata": {},
   "outputs": [
    {
     "name": "stdout",
     "output_type": "stream",
     "text": [
      "For This Dataset:\n",
      "m =  699\n",
      "n =  9\n"
     ]
    }
   ],
   "source": [
    "# convert dataframe into ndarray for numpy\n",
    "data = dataframe.to_numpy(dtype = np.float64)\n",
    "\n",
    "# print relevant metadata\n",
    "m = data.shape[0]\n",
    "n = data.shape[1]-1  # -1 since last column is target variable \n",
    "\n",
    "print(\"For This Dataset:\")\n",
    "print(\"m = \", m)\n",
    "print(\"n = \", n) "
   ]
  },
  {
   "cell_type": "markdown",
   "metadata": {},
   "source": [
    "##### Step 2: Partition Data\n",
    "We will have the first $80\\%$ as training set and the rest $20\\%$ as testing set."
   ]
  },
  {
   "cell_type": "code",
   "execution_count": 59,
   "metadata": {},
   "outputs": [],
   "source": [
    "# get counts\n",
    "trainCount = int(0.8*m)\n",
    "testCount = m - trainCount\n",
    "\n",
    "# training set\n",
    "X_train = data[:trainCount, :n]\n",
    "Y_train = data[:trainCount, n]\n",
    "\n",
    "# testing set\n",
    "X_test = data[trainCount:, :n]\n",
    "Y_test = data[trainCount:, n]"
   ]
  },
  {
   "cell_type": "markdown",
   "metadata": {},
   "source": [
    "##### Step 3: Define Hypothesis Function \n",
    "##### $h_{\\theta}(x) = \\theta^{T}X$ \n",
    "The hypothesis function returns:\n",
    "1. Predicted value of target variable (rings) \n",
    "\n",
    "Given:\n",
    "1. Parameter Matrix '$\\theta$' $ = \\theta_{0}, \\theta_{1}, ... , \\theta_{n}$\n",
    "2. Feature Matrix 'X' with dimensions m * (n+1)"
   ]
  },
  {
   "cell_type": "code",
   "execution_count": 60,
   "metadata": {},
   "outputs": [],
   "source": [
    "def hypothesis(theta, X):\n",
    "    # h is matrix with 1 col and same rows as X with each entry = 1\n",
    "    h = np.dot(X, np.transpose(theta))\n",
    "    return h"
   ]
  },
  {
   "cell_type": "markdown",
   "metadata": {},
   "source": [
    "##### Step 4: Define Batch Gradient Descent Function \n",
    "\n",
    "$\\theta_{j} := \\theta_{j} - \\alpha\\frac{\\partial}{\\partial \\theta_{j}}J(\\theta_{0}, \\theta_{1}, ..., \\theta_{n})$ for all $j = 0,...,n$\n",
    "\n",
    "Where our cost function is: <br>\n",
    "$J(\\theta_{0}, \\theta_{1}, ..., \\theta_{n}) = \\frac{1}{2m}\\sum_{i=1}^{m} (h_{\\theta}(x^{(i)}) - y^{(i)})^{2}$\n",
    "\n",
    "<br>\n",
    "Therefore we can simplify the gradient descent function: <br>\n",
    "$\\theta_{j} := \\theta_{j} - \\alpha\\frac{1}{m}\\sum_{i=1}^{m} (h_{\\theta}(x^{(i)}) - y^{(i)})x^{(i)}_{j}$\n",
    "\n",
    "<br><br>\n",
    "But for optimised code, we utilise vectorisation methods to get the following formula:<br>\n",
    "$\\theta = \\theta - \\frac{\\alpha}{m}(X^{T}(X\\theta - Y))$\n",
    "\n",
    "\n",
    "<br><br>\n",
    "The BGD function returns:\n",
    "1. Optimised '$\\theta$' list of size (n+1)\n",
    "2. Cost list 'cost' of size num_iters containing value of cost function over all iterations\n",
    "\n",
    "Given:\n",
    "1. Current '$\\theta$'\n",
    "2. Learning Rate '$\\alpha$'\n",
    "3. Number of Iterations 'num_iters'\n",
    "4. List of Hypothesis Values of All Samples 'h'\n",
    "5. Feature Matrix 'X'\n",
    "6. Target Variable Vector 'y'\n",
    "7. Number of Features 'n'"
   ]
  },
  {
   "cell_type": "code",
   "execution_count": 61,
   "metadata": {},
   "outputs": [],
   "source": [
    "def BGD(theta, alpha, num_iters, h, X, y, n):\n",
    "    # cost is a 1-D matrix of size num_iters, all originally 1s\n",
    "    cost = np.ones(num_iters)\n",
    "\n",
    "    # for each iteration\n",
    "    for i in range(0, num_iters):\n",
    "        # Update theta values according to vectorised formula\n",
    "        theta = theta - (alpha/X.shape[0]) * np.dot(np.transpose(X), \n",
    "                                                    np.subtract(\n",
    "                                                        np.dot(X, \n",
    "                                                               theta)\n",
    "                                                        , y))\n",
    "        \n",
    "        \n",
    "        # get new hypothesis and store cost for this iteration\n",
    "        h = hypothesis(theta, X)\n",
    "        cost[i] = (1/X.shape[0]) * 0.5 * np.sum(np.square(h-y))\n",
    "        \n",
    "    # convert theta into 1 row and n+1 columns and return with cost\n",
    "    theta = np.reshape(theta, (1, n+1))\n",
    "    return theta, cost"
   ]
  },
  {
   "cell_type": "markdown",
   "metadata": {},
   "source": [
    "##### Step 5: Define Linear Regression Function\n",
    "The linearRegression function returns:\n",
    "1. Final Optimised '$\\theta$'\n",
    "2. List Storing Cost History 'cost'\n",
    "\n",
    "Given:\n",
    "1. Feature Matrix 'X'\n",
    "2. Target Variable Vector 'y'\n",
    "3. Learning Rate '$\\alpha$'\n",
    "4. Number of Iterations 'num_iters'"
   ]
  },
  {
   "cell_type": "code",
   "execution_count": 62,
   "metadata": {},
   "outputs": [],
   "source": [
    "def linearRegression(X, y, alpha, num_iters):\n",
    "    # n is number of columns in X\n",
    "    n = X.shape[1]\n",
    "    \n",
    "    # put a column of 1s at the start of X\n",
    "    one_column = np.ones((X.shape[0], 1))\n",
    "    X = np.concatenate((one_column, X), axis = 1)\n",
    "    \n",
    "    # initializing the parameter vector with 0s and calculate initial hypothesis\n",
    "    theta = np.zeros(n+1)\n",
    "    h = hypothesis(theta, X)\n",
    "    \n",
    "    # perform batch gradient descent and return theta and cost\n",
    "    theta, cost = BGD(theta, alpha, num_iters, h, X, y, n)\n",
    "    return theta, cost"
   ]
  },
  {
   "cell_type": "markdown",
   "metadata": {},
   "source": [
    "##### Step 6: Perform Linear Regression And Output Error Measures\n",
    "After this, we get the optimum values of theta and we plot a graph showing that, as the number of iterations increase, we get closer to the actual optimum values since cost decreases.\n",
    "<br>\n",
    "Note: The first following cell is for error analysis, and the linear regression call is made in the next cell."
   ]
  },
  {
   "cell_type": "code",
   "execution_count": 78,
   "metadata": {},
   "outputs": [],
   "source": [
    "# calculates mean error, mean square error and mean root_square error\n",
    "def errorAnalysis(X, Y, theta):\n",
    "    # put a column of 1s at the start of X\n",
    "    one_column = np.ones((X.shape[0], 1)) \n",
    "    X = np.concatenate((one_column, X), axis = 1)\n",
    "    \n",
    "    # get predicted values according to theta\n",
    "    h_test = hypothesis(theta, X)\n",
    "    \n",
    "    # calculate difference between predicted and actual, square of this and then divide by Y of this.\n",
    "    h_test = h_test.flatten()\n",
    "    diffarray = np.absolute(np.subtract(h_test, Y))\n",
    "    diffsarray = np.square(diffarray)\n",
    "    divarray = np.divide(diffarray, Y)\n",
    "    \n",
    "    # Calculating the mean error\n",
    "    meanerror = np.average(divarray)\n",
    "    print ('Mean Error => ', meanerror)\n",
    "    \n",
    "    # Calculating the mean square error\n",
    "    meanserror = np.average(diffsarray)\n",
    "    print('Mean square error => ', meanserror)\n",
    "\n",
    "    # Calculate root mean square error\n",
    "    print('Root Mean Square Error => ', np.sqrt(meanserror))"
   ]
  },
  {
   "cell_type": "code",
   "execution_count": 64,
   "metadata": {},
   "outputs": [
    {
     "name": "stdout",
     "output_type": "stream",
     "text": [
      "[Theta Values]:\n",
      "  [[ 0.51747619  0.17045199 -0.05532359  0.01834317  0.020487    0.12264758\n",
      "   0.07096844  0.14946683  0.013197    0.04672948]]\n",
      "[Error Analysis]:\n",
      "Mean Error =>  0.39786148427575835\n",
      "Mean square error =>  1.9094385722318563\n",
      "Root Mean Square Error =>  1.381824363742316\n"
     ]
    },
    {
     "data": {
      "image/png": "[encoded data removed]",
      "text/plain": [
       "<Figure size 432x288 with 1 Axes>"
      ]
     },
     "metadata": {
      "needs_background": "light"
     },
     "output_type": "display_data"
    },
    {
     "name": "stdout",
     "output_type": "stream",
     "text": [
      "\n",
      "[Time Analysis]:\n",
      "CPU times: user 647 ms, sys: 19.9 ms, total: 667 ms\n",
      "Wall time: 694 ms\n"
     ]
    }
   ],
   "source": [
    "%%time\n",
    "\n",
    "# call function\n",
    "num_iters = 20000\n",
    "learning_rate = 0.0001\n",
    "theta, cost = linearRegression(X_train, Y_train, learning_rate, num_iters)\n",
    "\n",
    "# print thetas\n",
    "print(\"[Theta Values]:\\n \", theta)\n",
    "\n",
    "# analyse error\n",
    "print(\"[Error Analysis]:\")\n",
    "errorAnalysis(X_test, Y_test, theta)\n",
    "\n",
    "# plot cost graph\n",
    "cost = list(cost)\n",
    "num_iterations = [x for x in range(1, num_iters+1)]\n",
    "plt.plot(num_iterations, cost)\n",
    "plt.xlabel('Number Of Iterations')\n",
    "plt.ylabel('Cost')\n",
    "plt.title('PLOT')\n",
    "plt.show()\n",
    "\n",
    "\n",
    "print(\"\\n[Time Analysis]:\")"
   ]
  },
  {
   "cell_type": "markdown",
   "metadata": {},
   "source": [
    "##### Step 7: Observe effect of varying $\\alpha$ on the cost, '$J$'\n",
    "Here we repeat the linear regression for different values of $\\alpha$ and plot these graphs on the same plot "
   ]
  },
  {
   "cell_type": "code",
   "execution_count": 67,
   "metadata": {},
   "outputs": [
    {
     "name": "stdout",
     "output_type": "stream",
     "text": [
      "[Minimum Costs]:\n",
      "0.01  =>  0.08559542102315208\n",
      "0.001  =>  0.0856881879693553\n",
      "0.0001  =>  0.17628387141846466\n",
      "1e-05  =>  0.30139070808558505\n",
      "1e-06  =>  0.4284676318641416\n"
     ]
    },
    {
     "data": {
      "image/png": "[encoded data removed]",
      "text/plain": [
       "<Figure size 432x288 with 1 Axes>"
      ]
     },
     "metadata": {
      "needs_background": "light"
     },
     "output_type": "display_data"
    },
    {
     "name": "stdout",
     "output_type": "stream",
     "text": [
      "\n",
      "[Time Analysis]:\n",
      "CPU times: user 2.41 s, sys: 31.3 ms, total: 2.44 s\n",
      "Wall time: 2.5 s\n"
     ]
    }
   ],
   "source": [
    "%%time\n",
    "\n",
    "num_iters = 20000\n",
    "\n",
    "# generate learning rates\n",
    "alphas = [1e-2, 1e-3, 1e-4, 1e-5, 1e-6]\n",
    "print('[Minimum Costs]:')\n",
    "\n",
    "# perform linear regression and get costs for each alpha\n",
    "for alpha in alphas:\n",
    "    theta, cost = linearRegression(X_train, Y_train, alpha, num_iters)\n",
    "    cost = list(cost)\n",
    "    \n",
    "    # plot the costs\n",
    "    num_iterations = [x for x in range(1, num_iters+1)]\n",
    "    plt.plot(num_iterations, cost, label = alpha)\n",
    "    plt.xlabel('Number Of Iterations')\n",
    "    plt.ylabel('Cost')\n",
    "\n",
    "    # print the final costs\n",
    "    print(alpha, ' => ', cost[-1])\n",
    "    \n",
    "# plot the graphs\n",
    "plt.legend(loc = 'best', title = 'Alpha')\n",
    "plt.title('PLOT WITH ALPHA VARIATION')\n",
    "plt.show()\n",
    "\n",
    "\n",
    "print(\"\\n[Time Analysis]:\")"
   ]
  },
  {
   "cell_type": "markdown",
   "metadata": {},
   "source": [
    "##### Step 8: Perform Linear Regression With Feature Scaling\n",
    "θ will descend quickly on small ranges and slowly on large ranges, and so will oscillate inefficiently down to the optimum when the variables are very uneven. Hence, feature scaling is useful for this regression analysis.\n",
    "\n",
    "<br>\n",
    "Here we repeat the linear regression after scaling the features by using:\n",
    "1. z-score scaling: $x_j^{(i)'} = \\frac{x_j^{(i)} - \\mu(j)}{\\sigma(j)}$\n",
    "2. min-max scaling: $x_j^{(i)'} = \\frac{x_j^{(i)} - min(x_j)}{max(x_j) - min(x_j)}$\n",
    "3. mean scaling: $x_j^{(i)'} = \\frac{x_j^{(i)} - ave(x_j)}{max(x_j) - min(x_j)}$\n",
    "\n",
    "These functions return:\n",
    "1. Scaled feature matrix 'X_new'\n",
    "\n",
    "Given:\n",
    "1. Original feature matrix 'X'"
   ]
  },
  {
   "cell_type": "code",
   "execution_count": 68,
   "metadata": {},
   "outputs": [],
   "source": [
    "# Function definitions\n",
    "def zscoreFeatureScaling(X):\n",
    "    # get standard deviation and mean\n",
    "    std = np.std(X, axis = 0)\n",
    "    std = np.tile(std,(X.shape[0],1))\n",
    "    mean = np.mean(X,axis = 0)\n",
    "    mean = np.tile(mean,(X.shape[0],1))\n",
    "\n",
    "    # scale by subtracting mean and then dividing by std\n",
    "    X_new = np.copy(X)\n",
    "    X_new = np.subtract(X_new, mean)\n",
    "    X_new = np.divide(X_new, std)\n",
    "\n",
    "    return X_new\n",
    "\n",
    "\n",
    "def minMaxFeatureScaling(X):\n",
    "    # min array holds min of each column, max array holds max of each column\n",
    "    min_array = np.min(X, axis = 0)\n",
    "    min_array = np.tile(min_array, (X.shape[0],1))\n",
    "    max_array = np.max(X, axis = 0)\n",
    "    max_array = np.tile(max_array, (X.shape[0],1))\n",
    "    \n",
    "    # scale each element accordingly\n",
    "    X_new = np.copy(X)\n",
    "    X_new = np.subtract(X_new, min_array)\n",
    "    X_new = np.divide(X_new, np.subtract(max_array, min_array))\n",
    "    \n",
    "    return X_new\n",
    "\n",
    "def meanFeatureScaling(X):\n",
    "    # min array holds min of each column, max array holds max of each column, similarly for mean\n",
    "    min_array = np.min(X,axis = 0)\n",
    "    min_array = np.tile(min_array,(X.shape[0],1))\n",
    "    max_array = np.max(X,axis = 0)\n",
    "    max_array = np.tile(max_array,(X.shape[0],1))\n",
    "    mean = np.mean(X,axis = 0)\n",
    "    mean = np.tile(mean,(X.shape[0],1))\n",
    "    \n",
    "    # scale each element accordingly\n",
    "    X_new = np.copy(X)\n",
    "    X_new = np.subtract(X_new, mean)\n",
    "    X_new = np.divide(X_new, np.subtract(max_array, min_array))\n",
    "    \n",
    "    return X_new"
   ]
  },
  {
   "cell_type": "code",
   "execution_count": 77,
   "metadata": {},
   "outputs": [
    {
     "name": "stdout",
     "output_type": "stream",
     "text": [
      "[Error Analysis With Z-score Scaling]:\n",
      "Mean Error =>  0.3162645324857589\n",
      "Mean square error =>  1.447685543884846\n",
      "Root Mean Square Error =>  1.2031980484877982\n",
      "\n",
      " [[1.26359292 0.09855276 0.00445863 0.03914943 0.01869208 0.04165966\n",
      "  0.08195638 0.05983882 0.02991109 0.02114017]]\n",
      "[Error Analysis With Z-score Scaling]:\n",
      "Mean Error =>  1.5505455472369494\n",
      "Mean square error =>  17.588267489149334\n",
      "Root Mean Square Error =>  4.193836845795189\n",
      "\n",
      " [[2.73690621 0.2296979  0.08023701 0.12082108 0.05384358 0.0422516\n",
      "  0.31116081 0.08425083 0.10413841 0.02444027]]\n",
      "\n",
      "[Error Analysis With MinMax Scaling]:\n",
      "Mean Error =>  4.04219843703602\n",
      "Mean square error =>  135.32058743934965\n",
      "Root Mean Square Error =>  11.632737744802366\n",
      "\n",
      " [[1.79222536 0.6795131  0.29896751 0.34556098 0.24534989 0.32823664\n",
      "  0.60092389 0.4117864  0.28560713 0.08158212]]\n",
      "\n",
      "[Error Analysis With Mean Scaling]:\n",
      "Mean Error =>  4.159952806515426\n",
      "Mean square error =>  139.06125069426358\n",
      "Root Mean Square Error =>  11.792423444494503\n",
      "\n",
      " [[2.73690621 0.49433279 0.37644599 0.40021881 0.27676049 0.22722222\n",
      "  0.62473699 0.30036697 0.3395203  0.11615279]]\n"
     ]
    },
    {
     "data": {
      "image/png": "[encoded data removed]",
      "text/plain": [
       "<Figure size 432x288 with 1 Axes>"
      ]
     },
     "metadata": {
      "needs_background": "light"
     },
     "output_type": "display_data"
    },
    {
     "name": "stdout",
     "output_type": "stream",
     "text": [
      "\n",
      "[Time Analysis]:\n",
      "CPU times: user 20.3 s, sys: 175 ms, total: 20.5 s\n",
      "Wall time: 12 s\n"
     ]
    }
   ],
   "source": [
    "%%time\n",
    "\n",
    "# parameters\n",
    "num_iters = 20000\n",
    "learning_rate = 0.0001\n",
    "\n",
    "# call functions\n",
    "X_train_zscaled = zscoreFeatureScaling(X_train)\n",
    "X_train_mmscaled = minMaxFeatureScaling(X_train)\n",
    "X_train_meanscaled = meanFeatureScaling(X_train)\n",
    "\n",
    "# plot cost graph without feature scaling \n",
    "theta, cost = linearRegression(X_train, Y_train, learning_rate, num_iters)\n",
    "cost = list(cost)\n",
    "num_iterations = [x for x in range(1, num_iters+1)]\n",
    "plt.plot(num_iterations, cost)\n",
    "\n",
    "# analyse error\n",
    "print(\"[Error Analysis With Z-score Scaling]:\")\n",
    "errorAnalysis(X_test, Y_test, theta)\n",
    "print('\\n', theta)\n",
    "\n",
    "# plot cost graph with zscore feature scaling\n",
    "theta, cost = linearRegression(X_train_zscaled, Y_train, learning_rate, num_iters)\n",
    "cost = list(cost)\n",
    "plt.plot(num_iterations, cost)\n",
    "\n",
    "# analyse error\n",
    "print(\"[Error Analysis With Z-score Scaling]:\")\n",
    "errorAnalysis(X_test, Y_test, theta)\n",
    "print('\\n', theta)\n",
    "\n",
    "\n",
    "# plot cost graph with min max feature scaling \n",
    "theta, cost = linearRegression(X_train_mmscaled, Y_train, learning_rate, num_iters)\n",
    "cost = list(cost)\n",
    "plt.plot(num_iterations, cost)\n",
    "\n",
    "# analyse error\n",
    "print(\"\\n[Error Analysis With MinMax Scaling]:\")\n",
    "errorAnalysis(X_test, Y_test, theta)\n",
    "print('\\n', theta)\n",
    "\n",
    "\n",
    "# plot cost graph with mean feature scaling \n",
    "theta, cost = linearRegression(X_train_meanscaled, Y_train, learning_rate, num_iters)\n",
    "cost = list(cost)\n",
    "plt.plot(num_iterations, cost)\n",
    "\n",
    "# analyse error\n",
    "print(\"\\n[Error Analysis With Mean Scaling]:\")\n",
    "errorAnalysis(X_test, Y_test, theta)\n",
    "print('\\n', theta)\n",
    "\n",
    "\n",
    "# plot labels\n",
    "plt.legend(['Unscaled','Z-Score Scaling','Min-Max Scaling','Mean Scaling'],loc = 'best', title = 'Scaling')\n",
    "plt.xlabel('Number Of Iterations')\n",
    "plt.ylabel('Cost')\n",
    "plt.title('PLOT WITH FEATURE SCALING')\n",
    "plt.show()\n",
    "\n",
    "\n",
    "print(\"\\n[Time Analysis]:\")"
   ]
  },
  {
   "cell_type": "markdown",
   "metadata": {},
   "source": [
    "##### Step 9: Contour Plots To Show Effect Of Feature Scaling\n",
    "Feature scaling is expected to reduce the difference in feature variations, leading to a more circular contour plot.\n",
    "To show the contour plot, we take values from -50 to 50 on the X and Y axes (corresponding to $\\theta_1$ and $\\theta_2$) and then calculate the error from using these values of $\\theta$.\n",
    "\n",
    "We define a function getErrors that returns\n",
    "1. Matrix of size 50x50 showing error at each value of $\\theta_1$ and $\\theta_2$ 'Z'\n",
    "2. Matrix of size 50x50 showing $\\theta_1$ values 'X'\n",
    "2. Matrix of size 50x50 showing $\\theta_2$ values 'Y'\n",
    "\n",
    "Given:\n",
    "1. Feature Matrix 'X_train'"
   ]
  },
  {
   "cell_type": "code",
   "execution_count": 70,
   "metadata": {},
   "outputs": [],
   "source": [
    "def getErrors(X_train):\n",
    "    # make a copy of theta to operate on \n",
    "    theta1 = theta\n",
    "\n",
    "    # concatenate a 1s column to the start training data\n",
    "    one_column = np.ones((X_train.shape[0], 1)) \n",
    "    X_t = np.concatenate((one_column, X_train), axis = 1)\n",
    "\n",
    "    # get X and Y for 50 points between -50 and 50\n",
    "    t1 = np.linspace(-50,50)\n",
    "    t2 = np.linspace(-50,50)\n",
    "    X,Y = np.meshgrid(t1,t2)\n",
    "\n",
    "    # For each point, find the error\n",
    "    Z = np.ones(2500)\n",
    "    for i in range(50):\n",
    "        for j in range(50):\n",
    "            # alter theta values and calculate new hypothesis\n",
    "            theta1[0][0] = X[i][j]\n",
    "            theta1[0][1] = Y[i][j]\n",
    "            hyp = hypothesis(theta1, X_t)\n",
    "\n",
    "            # calculate difference between predicted and actual, square of this and then divide by Y of this.\n",
    "            hyp = hyp.flatten()\n",
    "            diffarray = np.absolute(np.subtract(hyp, Y_train))\n",
    "            diffsarray = np.square(diffarray)\n",
    "            divarray = np.divide(diffarray, Y_train)\n",
    "            error = np.average(divarray)\n",
    "            \n",
    "            # store error\n",
    "            Z[50*i+j] = error\n",
    "\n",
    "    # reshape it into 50, 50\n",
    "    Z = Z.reshape(50,50)\n",
    "    return X,Y,Z"
   ]
  },
  {
   "cell_type": "code",
   "execution_count": 71,
   "metadata": {},
   "outputs": [
    {
     "data": {
      "image/png": "[encoded data removed]",
      "text/plain": [
       "<Figure size 432x288 with 2 Axes>"
      ]
     },
     "metadata": {
      "needs_background": "light"
     },
     "output_type": "display_data"
    },
    {
     "data": {
      "image/png": "[encoded data removed]",
      "text/plain": [
       "<Figure size 432x288 with 2 Axes>"
      ]
     },
     "metadata": {
      "needs_background": "light"
     },
     "output_type": "display_data"
    },
    {
     "name": "stdout",
     "output_type": "stream",
     "text": [
      "\n",
      "[Time Analysis]:\n",
      "CPU times: user 512 ms, sys: 25.7 ms, total: 537 ms\n",
      "Wall time: 564 ms\n"
     ]
    }
   ],
   "source": [
    "%%time\n",
    "\n",
    "# get points using the above function\n",
    "X1,Y1,Z1 = getErrors(X_train)\n",
    "X2,Y2,Z2 = getErrors(X_train_zscaled)\n",
    "\n",
    "# plot first\n",
    "cp = plt.contourf(X1, Y1, Z1)\n",
    "plt.colorbar(cp)        # Add a colorbar to the plot\n",
    "plt.title('FILLED CONTOURS PLOT WITHOUT FEATURE SCALING')\n",
    "plt.xlabel('theta1')\n",
    "plt.ylabel('theta2')\n",
    "plt.show()\n",
    "\n",
    "# plot second\n",
    "cp = plt.contourf(X2, Y2, Z2, colors=['maroon','darkred','firebrick','indianred','darksalmon','lightsalmon','mistyrose','linen'])\n",
    "plt.colorbar(cp)        # Add a colorbar to the plot\n",
    "plt.title('FILLED CONTOURS PLOT WITH FEATURE SCALING')\n",
    "plt.xlabel('theta1')\n",
    "plt.ylabel('theta2')\n",
    "plt.show()\n",
    "\n",
    "\n",
    "print(\"\\n[Time Analysis]:\")"
   ]
  },
  {
   "cell_type": "markdown",
   "metadata": {},
   "source": [
    "##### Step 10: Perform Linear Regression With Regularisation\n",
    "Regularisation is done to prevent over-fitting.\n",
    "It is implemented by adding a “penalty” term to the best fit derived from the trained data, in order to achieve a lesser variance with the tested data. \n",
    "It also restricts the influence of predictor variables over the output variable by compressing their coefficients.\n",
    "\n",
    "The penalty term is as follows:<br> $|| \\theta ||^{2}$\n",
    "\n",
    "Hence, the new cost function that we want to minimise is:<br> $ ||X\\theta -Y||^{2} +  \\lambda ||\\theta||^{2}$\n",
    "\n",
    "The gradient is given by the optimised matrix formula:<br>\n",
    "$\\theta = \\theta - \\frac{\\alpha}{m}(X^{T}(Y-X\\theta)+\\lambda\\theta)$\n",
    "\n",
    "\n",
    "So we modify our BGD function to BGDWithRegularisation that returns:<br>\n",
    "1. Optimised '$\\theta$' list of size (n+1)\n",
    "2. Cost list 'cost' of size num_iters containing value of cost function over all iterations\n",
    "\n",
    "Given: <br>\n",
    "1. Current '$\\theta$'\n",
    "2. Learning Rate '$\\alpha$'\n",
    "3. Number of Iterations 'num_iters'\n",
    "4. List of Hypothesis Values of All Samples 'h'\n",
    "5. Feature Matrix 'X'\n",
    "6. Target Variable Vector 'y'\n",
    "7. Number of Features 'n'\n",
    "8. Regularisation constant '$\\lambda$'\n",
    "\n",
    "We also modify our linearRegression function to linearRegressionWithRegularisation that returns:<br>\n",
    "1. Final Optimised '$\\theta$'\n",
    "2. List Storing Cost History 'cost'\n",
    "\n",
    "Given:<br>\n",
    "1. Feature Matrix 'X'\n",
    "2. Target Variable Vector 'y'\n",
    "3. Learning Rate '$\\alpha$'\n",
    "4. Number of Iterations 'num_iters'\n",
    "5. Regularisation constant '$\\lambda$'"
   ]
  },
  {
   "cell_type": "code",
   "execution_count": 72,
   "metadata": {},
   "outputs": [],
   "source": [
    "def BGDWithRegularisation(theta, alpha, num_iters, h, X, y, n, lambd):\n",
    "    # cost is a 1-D matrix of size num_iters, all originally 1s\n",
    "    cost = np.ones(num_iters)\n",
    "\n",
    "    # for each iteration\n",
    "    for i in range(0, num_iters):\n",
    "        # calculate gradient (differential) according to formula and update theta\n",
    "        differential = np.subtract(y,np.dot(X, theta))  \n",
    "        differential = np.dot(np.transpose(X), differential)\n",
    "        differential = np.subtract(np.dot(lambd, theta), differential)\n",
    "        theta = theta - (alpha/X.shape[0]) * differential\n",
    "        \n",
    "        # get new hypothesis and store cost for this iteration\n",
    "        h = hypothesis(theta, X)\n",
    "        temp = np.subtract(y,np.dot(X,theta))\n",
    "        cost[i] = (1/X.shape[0]) * 0.5 * (np.add(np.sum(np.square(h-y)) ,lambd*np.dot(np.transpose(theta),theta)))\n",
    "        \n",
    "    # convert theta into 1 row and n+1 columns and return with cost\n",
    "    theta = np.reshape(theta, (1, n+1))\n",
    "    return theta, cost\n"
   ]
  },
  {
   "cell_type": "code",
   "execution_count": 73,
   "metadata": {},
   "outputs": [],
   "source": [
    "def linearRegressionWithRegularisation(X, y, alpha, num_iters, lambd):\n",
    "    # n is number of columns in X\n",
    "    n = X.shape[1]\n",
    "    \n",
    "    # put a column of 1s at the start of X\n",
    "    one_column = np.ones((X.shape[0], 1))\n",
    "    X = np.concatenate((one_column, X), axis = 1)\n",
    "    \n",
    "    # initializing the parameter vector with 0s and calculate initial hypothesis\n",
    "    theta = np.zeros(n+1)\n",
    "    h = hypothesis(theta, X)\n",
    "    \n",
    "    # perform batch gradient descent and return theta and cost\n",
    "    theta, cost = BGDWithRegularisation(theta, alpha, num_iters, h, X, y, n, lambd)\n",
    "    return theta, cost"
   ]
  },
  {
   "cell_type": "code",
   "execution_count": 74,
   "metadata": {},
   "outputs": [
    {
     "name": "stdout",
     "output_type": "stream",
     "text": [
      "[Theta Values For Regression With Regularisation]:\n",
      "  [[ 0.51747619  0.17045199 -0.05532359  0.01834317  0.020487    0.12264758\n",
      "   0.07096844  0.14946683  0.013197    0.04672948]]\n",
      "\n",
      "[Error Analysis Without Regularisation]:\n",
      "Mean Error =>  0.39786148427575835\n",
      "Mean square error =>  1.9094385722318563\n",
      "Root Mean Square Error =>  1.381824363742316\n",
      "\n",
      "\n",
      "[Theta Values For Regression With Regularisation]:\n",
      "  [[ 0.44783175  0.17428802 -0.04899031  0.01729257  0.02203375  0.12317936\n",
      "   0.07100191  0.14955572  0.01378947  0.04790678]]\n",
      "\n",
      "[Error Analysis With Regularisation]:\n",
      "Mean Error =>  0.4113279070194023\n",
      "Mean square error =>  1.9864164878169055\n",
      "Root Mean Square Error =>  1.409402883428619\n"
     ]
    },
    {
     "data": {
      "image/png": "[encoded data removed]",
      "text/plain": [
       "<Figure size 432x288 with 1 Axes>"
      ]
     },
     "metadata": {
      "needs_background": "light"
     },
     "output_type": "display_data"
    },
    {
     "name": "stdout",
     "output_type": "stream",
     "text": [
      "\n",
      "[Time Analysis]:\n",
      "CPU times: user 1.35 s, sys: 27.7 ms, total: 1.38 s\n",
      "Wall time: 1.41 s\n"
     ]
    }
   ],
   "source": [
    "%%time\n",
    "\n",
    "# parameters\n",
    "num_iters = 20000\n",
    "learning_rate = 0.0001\n",
    "lambd = 100\n",
    "\n",
    "# call function for normal\n",
    "theta, cost = linearRegression(X_train, Y_train, learning_rate, num_iters)\n",
    "print('[Theta Values For Regression With Regularisation]:\\n ', theta)\n",
    "\n",
    "# plot cost graph for normal\n",
    "cost = list(cost)\n",
    "num_iterations = [x for x in range(1, num_iters+1)]\n",
    "plt.plot(num_iterations, cost, label = 'Without Regularisation')\n",
    "\n",
    "# analyse error for normal\n",
    "print(\"\\n[Error Analysis Without Regularisation]:\")\n",
    "errorAnalysis(X_test, Y_test, theta)\n",
    "\n",
    "# call regularisation function\n",
    "theta, cost = linearRegressionWithRegularisation(X_train, Y_train, learning_rate, num_iters, lambd)\n",
    "print('\\n\\n[Theta Values For Regression With Regularisation]:\\n ', theta)\n",
    "plt.plot(num_iterations, cost, label = 'With Regularisation')\n",
    "\n",
    "# output:\n",
    "print(\"\\n[Error Analysis With Regularisation]:\")\n",
    "errorAnalysis(X_test, Y_test, theta)\n",
    "\n",
    "# plot labels\n",
    "plt.legend(loc = 'best', title = 'Regularisation')\n",
    "plt.xlabel('Number Of Iterations')\n",
    "plt.ylabel('Cost')\n",
    "plt.title('PLOT WITH REGULARISATION')\n",
    "plt.show()\n",
    "\n",
    "print(\"\\n[Time Analysis]:\")"
   ]
  },
  {
   "cell_type": "markdown",
   "metadata": {},
   "source": [
    "##### Step 11: Observe effect of varying $\\lambda$ in Linear Regression With Regularisation\n",
    "Here we repeat the linear regression with regularisation for different values of $\\lambda$ and plot these graphs on the same plot "
   ]
  },
  {
   "cell_type": "code",
   "execution_count": 75,
   "metadata": {},
   "outputs": [
    {
     "name": "stdout",
     "output_type": "stream",
     "text": [
      "[Minimum Costs]:\n",
      "100  =>  0.21489391365231356\n",
      "10  =>  0.18073123576239927\n",
      "1  =>  0.17673545735027882\n",
      "0.1  =>  0.17632909963110263\n",
      "0.01  =>  0.176288394937063\n",
      "0.001  =>  0.17628432377729947\n",
      "0.0001  =>  0.17628391665441853\n",
      "0  =>  0.17628387141846466\n"
     ]
    },
    {
     "data": {
      "image/png": "[encoded data removed]",
      "text/plain": [
       "<Figure size 432x288 with 1 Axes>"
      ]
     },
     "metadata": {
      "needs_background": "light"
     },
     "output_type": "display_data"
    },
    {
     "name": "stdout",
     "output_type": "stream",
     "text": [
      "\n",
      "[Time Analysis]:\n",
      "CPU times: user 5.66 s, sys: 68.8 ms, total: 5.73 s\n",
      "Wall time: 5.85 s\n"
     ]
    }
   ],
   "source": [
    "%%time\n",
    "\n",
    "# parameters\n",
    "num_iters = 20000\n",
    "learning_rate = 0.0001\n",
    "\n",
    "# generate lambda values\n",
    "lambdas = [100,10, 1, 1e-1, 1e-2, 1e-3, 1e-4,0]\n",
    "print('[Minimum Costs]:')\n",
    "\n",
    "# perform linear regression and get costs for each lambda\n",
    "for lambda_var in lambdas:\n",
    "    theta, cost = linearRegressionWithRegularisation(X_train, Y_train, learning_rate, num_iters, lambda_var)\n",
    "    cost = list(cost)\n",
    "    \n",
    "    # plot the costs\n",
    "    num_iterations = [x for x in range(1, num_iters+1)]\n",
    "    plt.plot(num_iterations, cost, label = lambda_var)\n",
    "    plt.xlabel('Number Of Iterations')\n",
    "    plt.ylabel('Cost')\n",
    "\n",
    "    # print the final costs\n",
    "    print(lambda_var, ' => ', cost[-1])\n",
    "    \n",
    "# plot the graphs\n",
    "plt.legend(loc = 'best', title = 'Lambda')\n",
    "plt.title('PLOT WITH LAMBDA VARIATION')\n",
    "plt.show()\n",
    "\n",
    "print(\"\\n[Time Analysis]:\")"
   ]
  },
  {
   "cell_type": "markdown",
   "metadata": {},
   "source": [
    "##### Step 12: Concluding Remarks\n",
    "\n"
   ]
  },
  {
   "cell_type": "markdown",
   "metadata": {},
   "source": [
    "1. From step 6: As the number of iterations of gradient descent increases we get closer to the minimum cost.\n",
    "2. From step 7: The 'best' alpha value was 0.0001 since it gave the best rate of learning without over-stepping\n",
    "3. From step 8: Feature scaling causes the cost function to converge quicker. Z-score scaling has a more desirable effect than min-max scaling and mean scaling. \n",
    "4. From step 9: The contour plot is observed to be more uniform with feature scaling as compared to without.\n",
    "4. From step 10: By regularization, the parameters of the regression slightly decrease. Also, the performance for the test data is observed to be slightly better.\n",
    "5. From step 11: At high lambda values, the cost increases slightly as regularization tries not to overfit the data."
   ]
  },
  {
   "cell_type": "markdown",
   "metadata": {},
   "source": [
    "#####    Acknowledgement of gratitude \n",
    "\n",
    "We owe our sincere thanks to Dr Kagita Venkateshwar Rao Sir , CSE Department NITW for his continuous support, expert guidance and unparalleled teaching methodologies. We also specially thank our other classmates for providing constructive criticism and helping us take this project further. As a team leader, I Rudraksh Kapil express my heartfelt thanks to my teammates for their assistance at all times. We are also indebted to our parents, other teachers and other family members.Finally,  I  bow  my  head  before  God  Almighty  for  his  blessings  in  the  successful completion of the work.\n",
    "\n",
    "<img src=\"RK.png\">\n",
    "               "
   ]
  },
  {
   "cell_type": "markdown",
   "metadata": {},
   "source": [
    "##### References\n",
    "\n",
    "A part of the work here has been captured from various sources including :\n",
    "    \n",
    "1. towardsdatascience.com\n",
    "2. Classroom Slides by Dr Venkateshwar Rao Sir"
   ]
  }
 ],
 "metadata": {
  "celltoolbar": "Raw Cell Format",
  "kernelspec": {
   "display_name": "Python 3",
   "language": "python",
   "name": "python3"
  },
  "language_info": {
   "codemirror_mode": {
    "name": "ipython",
    "version": 3
   },
   "file_extension": ".py",
   "mimetype": "text/x-python",
   "name": "python",
   "nbconvert_exporter": "python",
   "pygments_lexer": "ipython3",
   "version": "3.7.4"
  }
 },
 "nbformat": 4,
 "nbformat_minor": 2
}
