{
 "cells": [
  {
   "cell_type": "markdown",
   "metadata": {},
   "source": [
    "# Multivariate Linear Regression Using Batch Gradient Descent Optimisation\n",
    "\n",
    "Procedure:\n",
    "1. The dataset is divided into 20% test, and 80% training data.\n",
    "2. The parameters of multivariate regression are found.\n",
    "3. Basis for accuracy is mean root square error.\n",
    "4. Analysis is done as specified below.\n",
    "\n",
    "To analyse:\n",
    "1. With and without normalisation, how is the performance changing? Here, effects are observed using contour plots.\n",
    "2. With variations in alpha, how is J($\\theta$) varying?\n",
    "3. With and without normalisation, how is the performance changing?\n",
    "4. With variations in lambda, how is J($\\theta$) varying?\n",
    "\n",
    "Note:\n",
    "1. An example dataset, 'abalone_data.csv', along with its documentation can be found in the submitted folder.\n",
    "2. The dataset name must be entered via the command prompt in the cell for Step 1.\n",
    "\n",
    "Team Members in Chronological Order:\n",
    "1. 177109 - Ashwin Ganesan\n",
    "2. 177110 - Suraj Baradhi\n",
    "3. 177154 - Rudraksh Kapil\n",
    "4. 177246 - Pranav Pradeep"
   ]
  },
  {
   "cell_type": "markdown",
   "metadata": {},
   "source": [
    "##### Step 1: Get Dataset"
   ]
  },
  {
   "cell_type": "code",
   "execution_count": 1,
   "metadata": {
    "scrolled": true
   },
   "outputs": [
    {
     "name": "stdout",
     "output_type": "stream",
     "text": [
      "abalone_data.csv\n"
     ]
    },
    {
     "data": {
      "text/html": [
       "<div>\n",
       "<style scoped>\n",
       "    .dataframe tbody tr th:only-of-type {\n",
       "        vertical-align: middle;\n",
       "    }\n",
       "\n",
       "    .dataframe tbody tr th {\n",
       "        vertical-align: top;\n",
       "    }\n",
       "\n",
       "    .dataframe thead th {\n",
       "        text-align: right;\n",
       "    }\n",
       "</style>\n",
       "<table border=\"1\" class=\"dataframe\">\n",
       "  <thead>\n",
       "    <tr style=\"text-align: right;\">\n",
       "      <th></th>\n",
       "      <th>Sex</th>\n",
       "      <th>Length</th>\n",
       "      <th>Diameter</th>\n",
       "      <th>Height</th>\n",
       "      <th>Whole Weight</th>\n",
       "      <th>Shucked Weight</th>\n",
       "      <th>Viscera Weight</th>\n",
       "      <th>Shell Weight</th>\n",
       "      <th>Rings</th>\n",
       "    </tr>\n",
       "  </thead>\n",
       "  <tbody>\n",
       "    <tr>\n",
       "      <td>0</td>\n",
       "      <td>1</td>\n",
       "      <td>0.455</td>\n",
       "      <td>0.365</td>\n",
       "      <td>0.095</td>\n",
       "      <td>0.5140</td>\n",
       "      <td>0.2245</td>\n",
       "      <td>0.1010</td>\n",
       "      <td>0.1500</td>\n",
       "      <td>15</td>\n",
       "    </tr>\n",
       "    <tr>\n",
       "      <td>1</td>\n",
       "      <td>1</td>\n",
       "      <td>0.350</td>\n",
       "      <td>0.265</td>\n",
       "      <td>0.090</td>\n",
       "      <td>0.2255</td>\n",
       "      <td>0.0995</td>\n",
       "      <td>0.0485</td>\n",
       "      <td>0.0700</td>\n",
       "      <td>7</td>\n",
       "    </tr>\n",
       "    <tr>\n",
       "      <td>2</td>\n",
       "      <td>2</td>\n",
       "      <td>0.530</td>\n",
       "      <td>0.420</td>\n",
       "      <td>0.135</td>\n",
       "      <td>0.6770</td>\n",
       "      <td>0.2565</td>\n",
       "      <td>0.1415</td>\n",
       "      <td>0.2100</td>\n",
       "      <td>9</td>\n",
       "    </tr>\n",
       "    <tr>\n",
       "      <td>3</td>\n",
       "      <td>1</td>\n",
       "      <td>0.440</td>\n",
       "      <td>0.365</td>\n",
       "      <td>0.125</td>\n",
       "      <td>0.5160</td>\n",
       "      <td>0.2155</td>\n",
       "      <td>0.1140</td>\n",
       "      <td>0.1550</td>\n",
       "      <td>10</td>\n",
       "    </tr>\n",
       "    <tr>\n",
       "      <td>4</td>\n",
       "      <td>3</td>\n",
       "      <td>0.330</td>\n",
       "      <td>0.255</td>\n",
       "      <td>0.080</td>\n",
       "      <td>0.2050</td>\n",
       "      <td>0.0895</td>\n",
       "      <td>0.0395</td>\n",
       "      <td>0.0550</td>\n",
       "      <td>7</td>\n",
       "    </tr>\n",
       "    <tr>\n",
       "      <td>...</td>\n",
       "      <td>...</td>\n",
       "      <td>...</td>\n",
       "      <td>...</td>\n",
       "      <td>...</td>\n",
       "      <td>...</td>\n",
       "      <td>...</td>\n",
       "      <td>...</td>\n",
       "      <td>...</td>\n",
       "      <td>...</td>\n",
       "    </tr>\n",
       "    <tr>\n",
       "      <td>4172</td>\n",
       "      <td>2</td>\n",
       "      <td>0.565</td>\n",
       "      <td>0.450</td>\n",
       "      <td>0.165</td>\n",
       "      <td>0.8870</td>\n",
       "      <td>0.3700</td>\n",
       "      <td>0.2390</td>\n",
       "      <td>0.2490</td>\n",
       "      <td>11</td>\n",
       "    </tr>\n",
       "    <tr>\n",
       "      <td>4173</td>\n",
       "      <td>1</td>\n",
       "      <td>0.590</td>\n",
       "      <td>0.440</td>\n",
       "      <td>0.135</td>\n",
       "      <td>0.9660</td>\n",
       "      <td>0.4390</td>\n",
       "      <td>0.2145</td>\n",
       "      <td>0.2605</td>\n",
       "      <td>10</td>\n",
       "    </tr>\n",
       "    <tr>\n",
       "      <td>4174</td>\n",
       "      <td>1</td>\n",
       "      <td>0.600</td>\n",
       "      <td>0.475</td>\n",
       "      <td>0.205</td>\n",
       "      <td>1.1760</td>\n",
       "      <td>0.5255</td>\n",
       "      <td>0.2875</td>\n",
       "      <td>0.3080</td>\n",
       "      <td>9</td>\n",
       "    </tr>\n",
       "    <tr>\n",
       "      <td>4175</td>\n",
       "      <td>2</td>\n",
       "      <td>0.625</td>\n",
       "      <td>0.485</td>\n",
       "      <td>0.150</td>\n",
       "      <td>1.0945</td>\n",
       "      <td>0.5310</td>\n",
       "      <td>0.2610</td>\n",
       "      <td>0.2960</td>\n",
       "      <td>10</td>\n",
       "    </tr>\n",
       "    <tr>\n",
       "      <td>4176</td>\n",
       "      <td>1</td>\n",
       "      <td>0.710</td>\n",
       "      <td>0.555</td>\n",
       "      <td>0.195</td>\n",
       "      <td>1.9485</td>\n",
       "      <td>0.9455</td>\n",
       "      <td>0.3765</td>\n",
       "      <td>0.4950</td>\n",
       "      <td>12</td>\n",
       "    </tr>\n",
       "  </tbody>\n",
       "</table>\n",
       "<p>4177 rows × 9 columns</p>\n",
       "</div>"
      ],
      "text/plain": [
       "      Sex  Length  Diameter  Height  Whole Weight  Shucked Weight  \\\n",
       "0       1   0.455     0.365   0.095        0.5140          0.2245   \n",
       "1       1   0.350     0.265   0.090        0.2255          0.0995   \n",
       "2       2   0.530     0.420   0.135        0.6770          0.2565   \n",
       "3       1   0.440     0.365   0.125        0.5160          0.2155   \n",
       "4       3   0.330     0.255   0.080        0.2050          0.0895   \n",
       "...   ...     ...       ...     ...           ...             ...   \n",
       "4172    2   0.565     0.450   0.165        0.8870          0.3700   \n",
       "4173    1   0.590     0.440   0.135        0.9660          0.4390   \n",
       "4174    1   0.600     0.475   0.205        1.1760          0.5255   \n",
       "4175    2   0.625     0.485   0.150        1.0945          0.5310   \n",
       "4176    1   0.710     0.555   0.195        1.9485          0.9455   \n",
       "\n",
       "      Viscera Weight  Shell Weight  Rings  \n",
       "0             0.1010        0.1500     15  \n",
       "1             0.0485        0.0700      7  \n",
       "2             0.1415        0.2100      9  \n",
       "3             0.1140        0.1550     10  \n",
       "4             0.0395        0.0550      7  \n",
       "...              ...           ...    ...  \n",
       "4172          0.2390        0.2490     11  \n",
       "4173          0.2145        0.2605     10  \n",
       "4174          0.2875        0.3080      9  \n",
       "4175          0.2610        0.2960     10  \n",
       "4176          0.3765        0.4950     12  \n",
       "\n",
       "[4177 rows x 9 columns]"
      ]
     },
     "execution_count": 1,
     "metadata": {},
     "output_type": "execute_result"
    }
   ],
   "source": [
    "# import required packages\n",
    "import numpy as np\n",
    "import pandas as pd\n",
    "import matplotlib.pyplot as plt\n",
    "\n",
    "# read in the dataset as entered by terminal\n",
    "path = input()\n",
    "dataframe = pd.read_csv(path) \n",
    "dataframe"
   ]
  },
  {
   "cell_type": "code",
   "execution_count": 2,
   "metadata": {},
   "outputs": [
    {
     "name": "stdout",
     "output_type": "stream",
     "text": [
      "For This Dataset:\n",
      "m =  4177\n",
      "n =  8\n"
     ]
    }
   ],
   "source": [
    "# convert dataframe into ndarray for numpy\n",
    "data = dataframe.to_numpy(dtype = np.float64)\n",
    "\n",
    "# print relevant metadata\n",
    "m = data.shape[0]\n",
    "n = data.shape[1]-1  # -1 since last column is target variable \n",
    "\n",
    "print(\"For This Dataset:\")\n",
    "print(\"m = \", m)\n",
    "print(\"n = \", n) "
   ]
  },
  {
   "cell_type": "markdown",
   "metadata": {},
   "source": [
    "##### Step 2: Partition Data\n",
    "We will have the first $80\\%$ as training set and the rest $20\\%$ as testing set."
   ]
  },
  {
   "cell_type": "code",
   "execution_count": 3,
   "metadata": {},
   "outputs": [],
   "source": [
    "# get counts\n",
    "trainCount = int(0.8*m)\n",
    "testCount = m - trainCount\n",
    "\n",
    "# training set\n",
    "X_train = data[:trainCount, :n]\n",
    "Y_train = data[:trainCount, n]\n",
    "\n",
    "# testing set\n",
    "X_test = data[trainCount:, :n]\n",
    "Y_test = data[trainCount:, n]"
   ]
  },
  {
   "cell_type": "markdown",
   "metadata": {},
   "source": [
    "##### Step 3: Define Hypothesis Function \n",
    "##### $h_{\\theta}(x) = \\theta^{T}X$ \n",
    "The hypothesis function returns:\n",
    "1. Predicted value of target variable (rings) \n",
    "\n",
    "Given:\n",
    "1. Parameter Matrix '$\\theta$' $ = \\theta_{0}, \\theta_{1}, ... , \\theta_{n}$\n",
    "2. Feature Matrix 'X' with dimensions m * (n+1)"
   ]
  },
  {
   "cell_type": "code",
   "execution_count": 4,
   "metadata": {},
   "outputs": [],
   "source": [
    "def hypothesis(theta, X):\n",
    "    # h is matrix with 1 col and same rows as X with each entry = 1\n",
    "    h = np.dot(X, np.transpose(theta))\n",
    "    return h"
   ]
  },
  {
   "cell_type": "markdown",
   "metadata": {},
   "source": [
    "##### Step 4: Define Batch Gradient Descent Function \n",
    "\n",
    "$\\theta_{j} := \\theta_{j} - \\alpha\\frac{\\partial}{\\partial \\theta_{j}}J(\\theta_{0}, \\theta_{1}, ..., \\theta_{n})$ for all $j = 0,...,n$\n",
    "\n",
    "Where our cost function is: <br>\n",
    "$J(\\theta_{0}, \\theta_{1}, ..., \\theta_{n}) = \\frac{1}{2m}\\sum_{i=1}^{m} (h_{\\theta}(x^{(i)}) - y^{(i)})^{2}$\n",
    "\n",
    "<br>\n",
    "Therefore we can simplify the gradient descent function: <br>\n",
    "$\\theta_{j} := \\theta_{j} - \\alpha\\frac{1}{m}\\sum_{i=1}^{m} (h_{\\theta}(x^{(i)}) - y^{(i)})x^{(i)}_{j}$\n",
    "\n",
    "<br><br>\n",
    "But for optimised code, we utilise vectorisation methods to get the following formula:<br>\n",
    "$\\theta = \\theta - \\frac{\\alpha}{m}(X^{T}(X\\theta - Y))$\n",
    "\n",
    "\n",
    "<br><br>\n",
    "The BGD function returns:\n",
    "1. Optimised '$\\theta$' list of size (n+1)\n",
    "2. Cost list 'cost' of size num_iters containing value of cost function over all iterations\n",
    "\n",
    "Given:\n",
    "1. Current '$\\theta$'\n",
    "2. Learning Rate '$\\alpha$'\n",
    "3. Number of Iterations 'num_iters'\n",
    "4. List of Hypothesis Values of All Samples 'h'\n",
    "5. Feature Matrix 'X'\n",
    "6. Target Variable Vector 'y'\n",
    "7. Number of Features 'n'"
   ]
  },
  {
   "cell_type": "code",
   "execution_count": 5,
   "metadata": {},
   "outputs": [],
   "source": [
    "def BGD(theta, alpha, num_iters, h, X, y, n):\n",
    "    # cost is a 1-D matrix of size num_iters, all originally 1s\n",
    "    cost = np.ones(num_iters)\n",
    "\n",
    "    # for each iteration\n",
    "    for i in range(0, num_iters):\n",
    "        # Update theta values according to vectorised formula\n",
    "        theta = theta - (alpha/X.shape[0]) * np.dot(np.transpose(X), \n",
    "                                                    np.subtract(\n",
    "                                                        np.dot(X, \n",
    "                                                               theta)\n",
    "                                                        , y))\n",
    "        \n",
    "        \n",
    "        # get new hypothesis and store cost for this iteration\n",
    "        h = hypothesis(theta, X)\n",
    "        cost[i] = (1/X.shape[0]) * 0.5 * np.sum(np.square(h-y))\n",
    "        \n",
    "    # convert theta into 1 row and n+1 columns and return with cost\n",
    "    theta = np.reshape(theta, (1, n+1))\n",
    "    return theta, cost"
   ]
  },
  {
   "cell_type": "markdown",
   "metadata": {},
   "source": [
    "##### Step 5: Define Linear Regression Function\n",
    "The linearRegression function returns:\n",
    "1. Final Optimised '$\\theta$'\n",
    "2. List Storing Cost History 'cost'\n",
    "\n",
    "Given:\n",
    "1. Feature Matrix 'X'\n",
    "2. Target Variable Vector 'y'\n",
    "3. Learning Rate '$\\alpha$'\n",
    "4. Number of Iterations 'num_iters'"
   ]
  },
  {
   "cell_type": "code",
   "execution_count": 6,
   "metadata": {},
   "outputs": [],
   "source": [
    "def linearRegression(X, y, alpha, num_iters):\n",
    "    # n is number of columns in X\n",
    "    n = X.shape[1]\n",
    "    \n",
    "    # put a column of 1s at the start of X\n",
    "    one_column = np.ones((X.shape[0], 1))\n",
    "    X = np.concatenate((one_column, X), axis = 1)\n",
    "    \n",
    "    # initializing the parameter vector with 0s and calculate initial hypothesis\n",
    "    theta = np.zeros(n+1)\n",
    "    h = hypothesis(theta, X)\n",
    "    \n",
    "    # perform batch gradient descent and return theta and cost\n",
    "    theta, cost = BGD(theta, alpha, num_iters, h, X, y, n)\n",
    "    return theta, cost"
   ]
  },
  {
   "cell_type": "markdown",
   "metadata": {},
   "source": [
    "##### Step 6: Perform Linear Regression And Output Error Measures\n",
    "After this, we get the optimum values of theta and we plot a graph showing that, as the number of iterations increase, we get closer to the actual optimum values since cost decreases.\n",
    "<br>\n",
    "Note: The first following cell is for error analysis, and the linear regression call is made in the next cell."
   ]
  },
  {
   "cell_type": "code",
   "execution_count": 7,
   "metadata": {},
   "outputs": [],
   "source": [
    "# calculates mean error, mean square error and mean root_square error\n",
    "def errorAnalysis(X, Y, theta):\n",
    "    # put a column of 1s at the start of X\n",
    "    one_column = np.ones((X.shape[0], 1)) \n",
    "    X = np.concatenate((one_column, X), axis = 1)\n",
    "    \n",
    "    # get predicted values according to theta\n",
    "    h_test = hypothesis(theta, X)\n",
    "    \n",
    "    # calculate difference between predicted and actual, square of this and then divide by Y of this.\n",
    "    h_test = h_test.flatten()\n",
    "    diffarray = np.absolute(np.subtract(h_test, Y))\n",
    "    diffsarray = np.square(diffarray)\n",
    "    divarray = np.divide(diffarray, Y)\n",
    "    \n",
    "    # Calculating the mean error\n",
    "    meanerror = np.average(divarray)\n",
    "    print ('Mean Error => ', meanerror)\n",
    "    \n",
    "    # Calculating the mean square error\n",
    "    meanserror = np.average(diffsarray)\n",
    "    print('Mean square error => ', meanserror)\n",
    "\n",
    "    # Calculate root mean square error\n",
    "    print('Root Mean Square Error => ', np.sqrt(meanserror))"
   ]
  },
  {
   "cell_type": "code",
   "execution_count": 8,
   "metadata": {},
   "outputs": [
    {
     "name": "stdout",
     "output_type": "stream",
     "text": [
      "[Theta Values]:\n",
      "  [[2.42154088 1.44830297 1.5146755  1.20809164 0.43672903 2.90009887\n",
      "  1.09138211 0.61646676 0.93664188]]\n",
      "[Error Analysis]:\n",
      "Mean Error =>  0.22821880174412812\n",
      "Mean square error =>  7.010981736300338\n",
      "Root Mean Square Error =>  2.6478258508256047\n"
     ]
    },
    {
     "data": {
      "image/png": "[encoded data removed]",
      "text/plain": [
       "<Figure size 432x288 with 1 Axes>"
      ]
     },
     "metadata": {
      "needs_background": "light"
     },
     "output_type": "display_data"
    },
    {
     "name": "stdout",
     "output_type": "stream",
     "text": [
      "\n",
      "[Time Analysis]:\n",
      "CPU times: user 2.48 s, sys: 39.2 ms, total: 2.51 s\n",
      "Wall time: 1.64 s\n"
     ]
    }
   ],
   "source": [
    "%%time\n",
    "\n",
    "# call function\n",
    "num_iters = 20000\n",
    "learning_rate = 0.0001\n",
    "theta, cost = linearRegression(X_train, Y_train, learning_rate, num_iters)\n",
    "\n",
    "# print thetas\n",
    "print(\"[Theta Values]:\\n \", theta)\n",
    "\n",
    "# analyse error\n",
    "print(\"[Error Analysis]:\")\n",
    "errorAnalysis(X_test, Y_test, theta)\n",
    "\n",
    "# plot cost graph\n",
    "cost = list(cost)\n",
    "num_iterations = [x for x in range(1, num_iters+1)]\n",
    "plt.plot(num_iterations, cost)\n",
    "plt.xlabel('Number Of Iterations')\n",
    "plt.ylabel('Cost')\n",
    "plt.title('PLOT')\n",
    "plt.show()\n",
    "\n",
    "\n",
    "print(\"\\n[Time Analysis]:\")"
   ]
  },
  {
   "cell_type": "markdown",
   "metadata": {},
   "source": [
    "##### Step 7: Perform Linear Regression With Feature Scaling\n",
    "θ will descend quickly on small ranges and slowly on large ranges, and so will oscillate inefficiently down to the optimum when the variables are very uneven. Hence, feature scaling is useful for this regression analysis.\n",
    "\n",
    "<br>\n",
    "Here we repeat the linear regression after scaling the features by using:\n",
    "1. z-score scaling: $x_j^{(i)'} = \\frac{x_j^{(i)} - \\mu(j)}{\\sigma(j)}$\n",
    "2. min-max scaling: $x_j^{(i)'} = \\frac{x_j^{(i)} - min(x_j)}{max(x_j) - min(x_j)}$\n",
    "3. mean scaling: $x_j^{(i)'} = \\frac{x_j^{(i)} - ave(x_j)}{max(x_j) - min(x_j)}$\n",
    "\n",
    "These functions return:\n",
    "1. Scaled feature matrix 'X_new'\n",
    "\n",
    "Given:\n",
    "1. Original feature matrix 'X'"
   ]
  },
  {
   "cell_type": "code",
   "execution_count": 19,
   "metadata": {},
   "outputs": [],
   "source": [
    "# Function definitions\n",
    "def zscoreFeatureScaling(X):\n",
    "    # get standard deviation and mean\n",
    "    std = np.std(X, axis = 0)\n",
    "    std = np.tile(std,(X.shape[0],1))\n",
    "    mean = np.mean(X,axis = 0)\n",
    "    mean = np.tile(mean,(X.shape[0],1))\n",
    "\n",
    "    # scale by subtracting mean and then dividing by std\n",
    "    X_new = np.copy(X)\n",
    "    X_new = np.subtract(X_new, mean)\n",
    "    X_new = np.divide(X_new, std)\n",
    "\n",
    "    return X_new\n",
    "\n",
    "\n",
    "def minMaxFeatureScaling(X):\n",
    "    # min array holds min of each column, max array holds max of each column\n",
    "    min_array = np.min(X, axis = 0)\n",
    "    min_array = np.tile(min_array, (X.shape[0],1))\n",
    "    max_array = np.max(X, axis = 0)\n",
    "    max_array = np.tile(max_array, (X.shape[0],1))\n",
    "    \n",
    "    # scale each element accordingly\n",
    "    X_new = np.copy(X)\n",
    "    X_new = np.subtract(X_new, min_array)\n",
    "    X_new = np.divide(X_new, np.subtract(max_array, min_array))\n",
    "    \n",
    "    return X_new\n",
    "\n",
    "def meanFeatureScaling(X):\n",
    "    # min array holds min of each column, max array holds max of each column, similarly for mean\n",
    "    min_array = np.min(X,axis = 0)\n",
    "    min_array = np.tile(min_array,(X.shape[0],1))\n",
    "    max_array = np.max(X,axis = 0)\n",
    "    max_array = np.tile(max_array,(X.shape[0],1))\n",
    "    mean = np.mean(X,axis = 0)\n",
    "    mean = np.tile(mean,(X.shape[0],1))\n",
    "    \n",
    "    # scale each element accordingly\n",
    "    X_new = np.copy(X)\n",
    "    X_new = np.subtract(X_new, mean)\n",
    "    X_new = np.divide(X_new, np.subtract(max_array, min_array))\n",
    "    \n",
    "    return X_new"
   ]
  },
  {
   "cell_type": "code",
   "execution_count": 26,
   "metadata": {},
   "outputs": [
    {
     "name": "stdout",
     "output_type": "stream",
     "text": [
      "[Error Analysis With Z-score Scaling]:\n",
      "Mean Error =>  0.22821880174412812\n",
      "Mean square error =>  7.010981736300338\n",
      "Root Mean Square Error =>  2.6478258508256047\n",
      "[Theta]:\n",
      " [[2.42154088 1.44830297 1.5146755  1.20809164 0.43672903 2.90009887\n",
      "  1.09138211 0.61646676 0.93664188]]\n",
      "\n",
      "\n",
      "[Error Analysis With Z-score Scaling]:\n",
      "Mean Error =>  0.14289389014325596\n",
      "Mean square error =>  5.140945708828938\n",
      "Root Mean Square Error =>  2.267365367299443\n",
      "[Theta]:\n",
      " [[ 8.68146281 -0.30875608  0.31244059  0.42296166  0.49905786  0.20902242\n",
      "  -0.42470467  0.04235988  0.82083997]]\n",
      "\n",
      "\n",
      "[Error Analysis With MinMax Scaling]:\n",
      "Mean Error =>  0.2495712070393024\n",
      "Mean square error =>  6.87826457507599\n",
      "Root Mean Square Error =>  2.622644576582193\n",
      "[Theta]:\n",
      " [[4.43246014 1.23451036 2.92953334 2.90177812 0.61688256 1.54597005\n",
      "  1.16307743 1.22712127 1.34924282]]\n",
      "\n",
      "\n",
      "[Error Analysis With Mean Scaling]:\n",
      "Mean Error =>  0.17099696959127159\n",
      "Mean square error =>  6.197170378557408\n",
      "Root Mean Square Error =>  2.489411653093439\n",
      "[Theta]:\n",
      " [[ 8.68146281 -0.72706894  0.51185154  0.54773479  0.11943087  0.52921603\n",
      "   0.33316368  0.40247008  0.51544738]]\n"
     ]
    },
    {
     "data": {
      "image/png": "[encoded data removed]",
      "text/plain": [
       "<Figure size 432x288 with 1 Axes>"
      ]
     },
     "metadata": {
      "needs_background": "light"
     },
     "output_type": "display_data"
    },
    {
     "name": "stdout",
     "output_type": "stream",
     "text": [
      "\n",
      "[Time Analysis]:\n",
      "CPU times: user 10.8 s, sys: 71.4 ms, total: 10.8 s\n",
      "Wall time: 5.91 s\n"
     ]
    }
   ],
   "source": [
    "%%time\n",
    "\n",
    "# parameters\n",
    "num_iters = 20000\n",
    "learning_rate = 0.0001\n",
    "\n",
    "# call functions\n",
    "X_train_zscaled = zscoreFeatureScaling(X_train)\n",
    "X_train_mmscaled = minMaxFeatureScaling(X_train)\n",
    "X_train_meanscaled = meanFeatureScaling(X_train)\n",
    "X_test_zscaled = zscoreFeatureScaling(X_test)\n",
    "X_test_mmscaled = minMaxFeatureScaling(X_test)\n",
    "X_test_meanscaled = meanFeatureScaling(X_test)\n",
    "\n",
    "# plot cost graph without feature scaling \n",
    "theta, cost = linearRegression(X_train, Y_train, learning_rate, num_iters)\n",
    "cost = list(cost)\n",
    "num_iterations = [x for x in range(1, num_iters+1)]\n",
    "plt.plot(num_iterations, cost)\n",
    "\n",
    "# analyse error\n",
    "print(\"[Error Analysis With Z-score Scaling]:\")\n",
    "errorAnalysis(X_test, Y_test, theta)\n",
    "print('[Theta]:\\n', theta)\n",
    "\n",
    "# plot cost graph with zscore feature scaling\n",
    "theta, cost = linearRegression(X_train_zscaled, Y_train, learning_rate, num_iters)\n",
    "cost = list(cost)\n",
    "plt.plot(num_iterations, cost)\n",
    "\n",
    "# analyse error\n",
    "print(\"\\n\\n[Error Analysis With Z-score Scaling]:\")\n",
    "errorAnalysis(X_test_zscaled, Y_test, theta)\n",
    "print('[Theta]:\\n', theta)\n",
    "\n",
    "\n",
    "# plot cost graph with min max feature scaling \n",
    "theta, cost = linearRegression(X_train_mmscaled, Y_train, learning_rate, num_iters)\n",
    "cost = list(cost)\n",
    "plt.plot(num_iterations, cost)\n",
    "\n",
    "# analyse error\n",
    "print(\"\\n\\n[Error Analysis With MinMax Scaling]:\")\n",
    "errorAnalysis(X_test_mmscaled, Y_test, theta)\n",
    "print('[Theta]:\\n', theta)\n",
    "\n",
    "\n",
    "# plot cost graph with mean feature scaling \n",
    "theta, cost = linearRegression(X_train_meanscaled, Y_train, learning_rate, num_iters)\n",
    "cost = list(cost)\n",
    "plt.plot(num_iterations, cost)\n",
    "\n",
    "# analyse error\n",
    "print(\"\\n\\n[Error Analysis With Mean Scaling]:\")\n",
    "errorAnalysis(X_test_meanscaled, Y_test, theta)\n",
    "print('[Theta]:\\n', theta)\n",
    "\n",
    "\n",
    "# plot labels\n",
    "plt.legend(['Unscaled','Z-Score Scaling','Min-Max Scaling','Mean Scaling'],loc = 'best', title = 'Scaling')\n",
    "plt.xlabel('Number Of Iterations')\n",
    "plt.ylabel('Cost')\n",
    "plt.title('PLOT WITH FEATURE SCALING')\n",
    "plt.show()\n",
    "\n",
    "\n",
    "print(\"\\n[Time Analysis]:\")"
   ]
  },
  {
   "cell_type": "markdown",
   "metadata": {},
   "source": [
    "##### Step 8: Observe effect of varying $\\alpha$ on the cost, '$J$'\n",
    "Here we repeat the linear regression for different values of $\\alpha$ and plot these graphs on the same plot "
   ]
  },
  {
   "cell_type": "code",
   "execution_count": 24,
   "metadata": {},
   "outputs": [
    {
     "name": "stdout",
     "output_type": "stream",
     "text": [
      "[Minimum Costs]:\n",
      "0.01  =>  2.5355967703427216\n",
      "0.005  =>  2.5547924543411455\n",
      "0.001  =>  2.6121954373417315\n",
      "0.0005  =>  2.697427157376529\n",
      "0.0001  =>  4.151903913216911\n",
      "5e-05  =>  10.248288816067895\n",
      "1e-05  =>  37.56748639809753\n",
      "5e-06  =>  45.44435772320409\n",
      "1e-06  =>  53.555393540680505\n"
     ]
    },
    {
     "data": {
      "image/png": "[encoded data removed]",
      "text/plain": [
       "<Figure size 432x288 with 1 Axes>"
      ]
     },
     "metadata": {
      "needs_background": "light"
     },
     "output_type": "display_data"
    },
    {
     "name": "stdout",
     "output_type": "stream",
     "text": [
      "\n",
      "[Time Analysis]:\n",
      "CPU times: user 26.6 s, sys: 273 ms, total: 26.9 s\n",
      "Wall time: 16.1 s\n"
     ]
    }
   ],
   "source": [
    "%%time\n",
    "\n",
    "num_iters = 20000\n",
    "\n",
    "# generate learning rates\n",
    "alphas = [1e-2, 5e-3, 1e-3, 5e-4, 1e-4, 5e-5, 1e-5, 5e-6, 1e-6]\n",
    "print('[Minimum Costs]:')\n",
    "\n",
    "# perform linear regression and get costs for each alpha\n",
    "for alpha in alphas:\n",
    "    theta, cost = linearRegression(X_train_zscaled, Y_train, alpha, num_iters)\n",
    "    cost = list(cost)\n",
    "    \n",
    "    # plot the costs\n",
    "    num_iterations = [x for x in range(1, num_iters+1)]\n",
    "    plt.plot(num_iterations, cost, label = alpha)\n",
    "    plt.xlabel('Number Of Iterations')\n",
    "    plt.ylabel('Cost')\n",
    "\n",
    "    # print the final costs\n",
    "    print(alpha, ' => ', cost[-1])\n",
    "    \n",
    "# plot the graphs\n",
    "plt.legend(loc = 'best', title = 'Alpha')\n",
    "plt.title('PLOT WITH ALPHA VARIATION')\n",
    "plt.show()\n",
    "\n",
    "\n",
    "print(\"\\n[Time Analysis]:\")"
   ]
  },
  {
   "cell_type": "markdown",
   "metadata": {},
   "source": [
    "##### Step 9: Contour Plots To Show Effect Of Feature Scaling\n",
    "Feature scaling is expected to reduce the difference in feature variations, leading to a more circular contour plot.\n",
    "To show the contour plot, we take values from -50 to 50 on the X and Y axes (corresponding to $\\theta_1$ and $\\theta_2$) and then calculate the error from using these values of $\\theta$.\n",
    "\n",
    "We define a function getErrors that returns\n",
    "1. Matrix of size 50x50 showing error at each value of $\\theta_1$ and $\\theta_2$ 'Z'\n",
    "2. Matrix of size 50x50 showing $\\theta_1$ values 'X'\n",
    "2. Matrix of size 50x50 showing $\\theta_2$ values 'Y'\n",
    "\n",
    "Given:\n",
    "1. Feature Matrix 'X_train'"
   ]
  },
  {
   "cell_type": "code",
   "execution_count": 38,
   "metadata": {},
   "outputs": [],
   "source": [
    "def getErrors(X_train):\n",
    "    # make a copy of theta to operate on \n",
    "    theta1 = theta\n",
    "\n",
    "    # concatenate a 1s column to the start training data\n",
    "    one_column = np.ones((X_train.shape[0], 1)) \n",
    "    X_t = np.concatenate((one_column, X_train), axis = 1)\n",
    "\n",
    "    # get X and Y for 50 points between -50 and 50\n",
    "    numPoints = 100\n",
    "    t1 = np.linspace(-50,50,numPoints)\n",
    "    t2 = np.linspace(-50,50,numPoints)\n",
    "    X,Y = np.meshgrid(t1,t2)\n",
    "\n",
    "    # For each point, find the error\n",
    "    Z = np.ones(numPoints**2)\n",
    "    for i in range(numPoints):\n",
    "        for j in range(numPoints):\n",
    "            # alter theta values and calculate new hypothesis\n",
    "            theta1[0][0] = X[i][j]\n",
    "            theta1[0][1] = Y[i][j]\n",
    "            hyp = hypothesis(theta1, X_t)\n",
    "\n",
    "            # calculate difference between predicted and actual, square of this and then divide by Y of this.\n",
    "            hyp = hyp.flatten()\n",
    "            diffarray = np.absolute(np.subtract(hyp, Y_train))\n",
    "            diffsarray = np.square(diffarray)\n",
    "            divarray = np.divide(diffarray, Y_train)\n",
    "            error = np.average(divarray)\n",
    "            \n",
    "            # store error\n",
    "            Z[numPoints*i+j] = error\n",
    "\n",
    "    # reshape it into 50, 50\n",
    "    Z = Z.reshape(numPoints,numPoints)\n",
    "    return X,Y,Z"
   ]
  },
  {
   "cell_type": "code",
   "execution_count": 39,
   "metadata": {},
   "outputs": [
    {
     "data": {
      "image/png": "[encoded data removed]",
      "text/plain": [
       "<Figure size 432x288 with 2 Axes>"
      ]
     },
     "metadata": {
      "needs_background": "light"
     },
     "output_type": "display_data"
    },
    {
     "data": {
      "image/png": "[encoded data removed]",
      "text/plain": [
       "<Figure size 432x288 with 2 Axes>"
      ]
     },
     "metadata": {
      "needs_background": "light"
     },
     "output_type": "display_data"
    },
    {
     "name": "stdout",
     "output_type": "stream",
     "text": [
      "\n",
      "[Time Analysis]:\n",
      "CPU times: user 2.32 s, sys: 29.1 ms, total: 2.34 s\n",
      "Wall time: 1.45 s\n"
     ]
    }
   ],
   "source": [
    "%%time\n",
    "\n",
    "# get points using the above function\n",
    "X1,Y1,Z1 = getErrors(X_train)\n",
    "X2,Y2,Z2 = getErrors(X_train_zscaled)\n",
    "\n",
    "# plot first\n",
    "cp = plt.contourf(X1, Y1, Z1)\n",
    "plt.colorbar(cp)        # Add a colorbar to the plot\n",
    "plt.title('FILLED CONTOURS PLOT WITHOUT FEATURE SCALING')\n",
    "plt.xlabel('theta1')\n",
    "plt.ylabel('theta2')\n",
    "plt.show()\n",
    "\n",
    "# plot second\n",
    "cp = plt.contourf(X2, Y2, Z2, colors=['maroon','darkred','firebrick','indianred','darksalmon','lightsalmon','mistyrose','linen'])\n",
    "plt.colorbar(cp)        # Add a colorbar to the plot\n",
    "plt.title('FILLED CONTOURS PLOT WITH FEATURE SCALING')\n",
    "plt.xlabel('theta1')\n",
    "plt.ylabel('theta2')\n",
    "plt.show()\n",
    "\n",
    "\n",
    "print(\"\\n[Time Analysis]:\")"
   ]
  },
  {
   "cell_type": "markdown",
   "metadata": {},
   "source": [
    "##### Step 10: Perform Linear Regression With Regularisation\n",
    "Regularisation is done to prevent over-fitting.\n",
    "It is implemented by adding a “penalty” term to the best fit derived from the trained data, in order to achieve a lesser variance with the tested data. \n",
    "It also restricts the influence of predictor variables over the output variable by compressing their coefficients.\n",
    "\n",
    "The penalty term is as follows:<br> $|| \\theta ||^{2}$\n",
    "\n",
    "Hence, the new cost function that we want to minimise is:<br> $ ||X\\theta -Y||^{2} +  \\lambda ||\\theta||^{2}$\n",
    "\n",
    "The gradient is given by the optimised matrix formula:<br>\n",
    "$\\theta = \\theta - \\frac{\\alpha}{m}(X^{T}(Y-X\\theta)+\\lambda\\theta)$\n",
    "\n",
    "\n",
    "So we modify our BGD function to BGDWithRegularisation that returns:<br>\n",
    "1. Optimised '$\\theta$' list of size (n+1)\n",
    "2. Cost list 'cost' of size num_iters containing value of cost function over all iterations\n",
    "\n",
    "Given: <br>\n",
    "1. Current '$\\theta$'\n",
    "2. Learning Rate '$\\alpha$'\n",
    "3. Number of Iterations 'num_iters'\n",
    "4. List of Hypothesis Values of All Samples 'h'\n",
    "5. Feature Matrix 'X'\n",
    "6. Target Variable Vector 'y'\n",
    "7. Number of Features 'n'\n",
    "8. Regularisation constant '$\\lambda$'\n",
    "\n",
    "We also modify our linearRegression function to linearRegressionWithRegularisation that returns:<br>\n",
    "1. Final Optimised '$\\theta$'\n",
    "2. List Storing Cost History 'cost'\n",
    "\n",
    "Given:<br>\n",
    "1. Feature Matrix 'X'\n",
    "2. Target Variable Vector 'y'\n",
    "3. Learning Rate '$\\alpha$'\n",
    "4. Number of Iterations 'num_iters'\n",
    "5. Regularisation constant '$\\lambda$'"
   ]
  },
  {
   "cell_type": "code",
   "execution_count": 40,
   "metadata": {},
   "outputs": [],
   "source": [
    "def BGDWithRegularisation(theta, alpha, num_iters, h, X, y, n, lambd):\n",
    "    # cost is a 1-D matrix of size num_iters, all originally 1s\n",
    "    cost = np.ones(num_iters)\n",
    "\n",
    "    # for each iteration\n",
    "    for i in range(0, num_iters):\n",
    "        # calculate gradient (differential) according to formula and update theta\n",
    "        differential = np.subtract(y,np.dot(X, theta))  \n",
    "        differential = np.dot(np.transpose(X), differential)\n",
    "        differential = np.subtract(np.dot(lambd, theta), differential)\n",
    "        theta = theta - (alpha/X.shape[0]) * differential\n",
    "        \n",
    "        # get new hypothesis and store cost for this iteration\n",
    "        h = hypothesis(theta, X)\n",
    "        temp = np.subtract(y,np.dot(X,theta))\n",
    "        cost[i] = (1/X.shape[0]) * 0.5 * (np.add(np.sum(np.square(h-y)) ,lambd*np.dot(np.transpose(theta),theta)))\n",
    "        \n",
    "    # convert theta into 1 row and n+1 columns and return with cost\n",
    "    theta = np.reshape(theta, (1, n+1))\n",
    "    return theta, cost\n"
   ]
  },
  {
   "cell_type": "code",
   "execution_count": 41,
   "metadata": {},
   "outputs": [],
   "source": [
    "def linearRegressionWithRegularisation(X, y, alpha, num_iters, lambd):\n",
    "    # n is number of columns in X\n",
    "    n = X.shape[1]\n",
    "    \n",
    "    # put a column of 1s at the start of X\n",
    "    one_column = np.ones((X.shape[0], 1))\n",
    "    X = np.concatenate((one_column, X), axis = 1)\n",
    "    \n",
    "    # initializing the parameter vector with 0s and calculate initial hypothesis\n",
    "    theta = np.zeros(n+1)\n",
    "    h = hypothesis(theta, X)\n",
    "    \n",
    "    # perform batch gradient descent and return theta and cost\n",
    "    theta, cost = BGDWithRegularisation(theta, alpha, num_iters, h, X, y, n, lambd)\n",
    "    return theta, cost"
   ]
  },
  {
   "cell_type": "code",
   "execution_count": 42,
   "metadata": {},
   "outputs": [
    {
     "name": "stdout",
     "output_type": "stream",
     "text": [
      "[Theta Values For Regression With Regularisation]:\n",
      "  [[ 8.68146281 -0.30875608  0.31244059  0.42296166  0.49905786  0.20902242\n",
      "  -0.42470467  0.04235988  0.82083997]]\n",
      "\n",
      "[Error Analysis Without Regularisation]:\n",
      "Mean Error =>  0.14289389014325596\n",
      "Mean square error =>  5.140945708828938\n",
      "Root Mean Square Error =>  2.267365367299443\n",
      "\n",
      "\n",
      "[Theta Values For Regression With Regularisation]:\n",
      "  [[ 8.50582648 -0.30464463  0.3103061   0.41772512  0.49165008  0.20958065\n",
      "  -0.40650456  0.04747354  0.80418118]]\n",
      "\n",
      "[Error Analysis With Regularisation]:\n",
      "Mean Error =>  0.14760628737375375\n",
      "Mean square error =>  5.466663140125575\n",
      "Root Mean Square Error =>  2.3380896347500397\n"
     ]
    },
    {
     "data": {
      "image/png": "[encoded data removed]",
      "text/plain": [
       "<Figure size 432x288 with 1 Axes>"
      ]
     },
     "metadata": {
      "needs_background": "light"
     },
     "output_type": "display_data"
    },
    {
     "name": "stdout",
     "output_type": "stream",
     "text": [
      "\n",
      "[Time Analysis]:\n",
      "CPU times: user 7.04 s, sys: 59.4 ms, total: 7.1 s\n",
      "Wall time: 3.91 s\n"
     ]
    }
   ],
   "source": [
    "%%time\n",
    "\n",
    "# parameters\n",
    "num_iters = 20000\n",
    "learning_rate = 0.0001\n",
    "lambd = 100\n",
    "\n",
    "# call function for normal\n",
    "theta, cost = linearRegression(X_train_zscaled, Y_train, learning_rate, num_iters)\n",
    "print('[Theta Values For Regression With Regularisation]:\\n ', theta)\n",
    "\n",
    "# plot cost graph for normal\n",
    "cost = list(cost)\n",
    "num_iterations = [x for x in range(1, num_iters+1)]\n",
    "plt.plot(num_iterations, cost, label = 'Without Regularisation')\n",
    "\n",
    "# analyse error for normal\n",
    "print(\"\\n[Error Analysis Without Regularisation]:\")\n",
    "errorAnalysis(X_test_zscaled, Y_test, theta)\n",
    "\n",
    "# call regularisation function\n",
    "theta, cost = linearRegressionWithRegularisation(X_train_zscaled, Y_train, learning_rate, num_iters, lambd)\n",
    "print('\\n\\n[Theta Values For Regression With Regularisation]:\\n ', theta)\n",
    "plt.plot(num_iterations, cost, label = 'With Regularisation')\n",
    "\n",
    "# output:\n",
    "print(\"\\n[Error Analysis With Regularisation]:\")\n",
    "errorAnalysis(X_test_zscaled, Y_test, theta)\n",
    "\n",
    "# plot labels\n",
    "plt.legend(loc = 'best', title = 'Regularisation')\n",
    "plt.xlabel('Number Of Iterations')\n",
    "plt.ylabel('Cost')\n",
    "plt.title('PLOT WITH REGULARISATION')\n",
    "plt.show()\n",
    "\n",
    "print(\"\\n[Time Analysis]:\")"
   ]
  },
  {
   "cell_type": "markdown",
   "metadata": {},
   "source": [
    "##### Step 11: Observe effect of varying $\\lambda$ in Linear Regression With Regularisation\n",
    "Here we repeat the linear regression with regularisation for different values of $\\lambda$ and plot these graphs on the same plot "
   ]
  },
  {
   "cell_type": "code",
   "execution_count": 43,
   "metadata": {},
   "outputs": [
    {
     "name": "stdout",
     "output_type": "stream",
     "text": [
      "[Minimum Costs]:\n",
      "100  =>  5.521698434712264\n",
      "10  =>  4.291992037669698\n",
      "1  =>  4.1659445040557515\n",
      "0.1  =>  4.153308290789992\n",
      "0.01  =>  4.152044354159807\n",
      "0.001  =>  4.151917957343018\n",
      "0.0001  =>  4.151905317629795\n",
      "0  =>  4.151903913216911\n"
     ]
    },
    {
     "data": {
      "image/png": "[encoded data removed]",
      "text/plain": [
       "<Figure size 432x288 with 1 Axes>"
      ]
     },
     "metadata": {
      "needs_background": "light"
     },
     "output_type": "display_data"
    },
    {
     "name": "stdout",
     "output_type": "stream",
     "text": [
      "\n",
      "[Time Analysis]:\n",
      "CPU times: user 30 s, sys: 121 ms, total: 30.1 s\n",
      "Wall time: 15.8 s\n"
     ]
    }
   ],
   "source": [
    "%%time\n",
    "\n",
    "# parameters\n",
    "num_iters = 20000\n",
    "learning_rate = 0.0001\n",
    "\n",
    "# generate lambda values\n",
    "lambdas = [100,10, 1, 1e-1, 1e-2, 1e-3, 1e-4,0]\n",
    "print('[Minimum Costs]:')\n",
    "\n",
    "# perform linear regression and get costs for each lambda\n",
    "for lambda_var in lambdas:\n",
    "    theta, cost = linearRegressionWithRegularisation(X_train_zscaled, Y_train, learning_rate, num_iters, lambda_var)\n",
    "    cost = list(cost)\n",
    "    \n",
    "    # plot the costs\n",
    "    num_iterations = [x for x in range(1, num_iters+1)]\n",
    "    plt.plot(num_iterations, cost, label = lambda_var)\n",
    "    plt.xlabel('Number Of Iterations')\n",
    "    plt.ylabel('Cost')\n",
    "\n",
    "    # print the final costs\n",
    "    print(lambda_var, ' => ', cost[-1])\n",
    "    \n",
    "# plot the graphs\n",
    "plt.legend(loc = 'best', title = 'Lambda')\n",
    "plt.title('PLOT WITH LAMBDA VARIATION')\n",
    "plt.show()\n",
    "\n",
    "print(\"\\n[Time Analysis]:\")"
   ]
  },
  {
   "cell_type": "markdown",
   "metadata": {},
   "source": [
    "##### Step 12: Concluding Remarks\n",
    "\n"
   ]
  },
  {
   "cell_type": "markdown",
   "metadata": {},
   "source": [
    "1. From step 6: As the number of iterations of gradient descent increases we get closer to the minimum cost.\n",
    "2. From step 7: Feature scaling causes the cost function to converge quicker. Z-score scaling has a more desirable effect than min-max scaling and mean scaling. Feature scaling is also observed to give lower error rates than without feature scaling.\n",
    "3. From step 8: The 'best' alpha value was 0.0001 since it gave the best rate of learning without over-stepping\n",
    "4. From step 9: The contour plot is observed to be more uniform with feature scaling as compared to without.\n",
    "4. From step 10: By regularization, the parameters of the regression slightly decrease. Also, the performance for the test data is observed to be slightly better.\n",
    "5. From step 11: At high lambda values, the cost increases slightly as regularization tries not to overfit the data."
   ]
  },
  {
   "cell_type": "markdown",
   "metadata": {},
   "source": [
    "#####    Acknowledgement of gratitude \n",
    "\n",
    "We owe our sincere thanks to Dr Kagita Venkateshwar Rao, CSE Department NITW, for his continuous support, expert guidance and unparalleled teaching methodologies. We also specially thank our other classmates for providing constructive criticism and helping us take this project further. We are also indebted to our parents, other teachers and our family members. Finally,  we  bow  our  heads  before  God  Almighty  for  his  blessings  in  the  successful completion of the work.             "
   ]
  },
  {
   "cell_type": "markdown",
   "metadata": {},
   "source": [
    "##### References\n",
    "\n",
    "A part of the work here has been captured from various sources including :\n",
    "    \n",
    "1. towardsdatascience.com\n",
    "2. Classroom Slides by Dr Venkateshwar Rao Sir"
   ]
  }
 ],
 "metadata": {
  "celltoolbar": "Raw Cell Format",
  "kernelspec": {
   "display_name": "Python 3",
   "language": "python",
   "name": "python3"
  },
  "language_info": {
   "codemirror_mode": {
    "name": "ipython",
    "version": 3
   },
   "file_extension": ".py",
   "mimetype": "text/x-python",
   "name": "python",
   "nbconvert_exporter": "python",
   "pygments_lexer": "ipython3",
   "version": "3.7.4"
  }
 },
 "nbformat": 4,
 "nbformat_minor": 2
}
