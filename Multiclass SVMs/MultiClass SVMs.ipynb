{
 "cells": [
  {
   "cell_type": "markdown",
   "metadata": {},
   "source": [
    "# Different types of MultiClass SVMs\n",
    "The dataset used is CIFAR-10"
   ]
  },
  {
   "cell_type": "code",
   "execution_count": 1,
   "metadata": {},
   "outputs": [],
   "source": [
    "import numpy as np\n",
    "import pandas as pd\n",
    "import matplotlib.pyplot as plt\n",
    "from sklearn import svm\n",
    "import os\n",
    "from six.moves import cPickle as pickle\n",
    "import time"
   ]
  },
  {
   "cell_type": "raw",
   "metadata": {},
   "source": [
    "# preprocessing to get from dataset\n",
    "def load_pickle(f):\n",
    "    return pickle.load(f, encoding='latin1')\n",
    "\n",
    "# load each batch\n",
    "def load_CIFAR_batch(filename):\n",
    "    with open(filename, 'rb') as f:\n",
    "        datadict = load_pickle(f)\n",
    "        X = datadict['data']\n",
    "        Y = datadict['labels']\n",
    "        X = X.reshape(10000, 3, 32, 32).transpose(0,2,3,1).astype(\"float\")\n",
    "        Y = np.array(Y)\n",
    "        return X, Y\n",
    "\n",
    "# load entire dataset\n",
    "def load_CIFAR10(ROOT):\n",
    "    # load training batches\n",
    "    xs = []\n",
    "    ys = []\n",
    "    for b in range(1,6):\n",
    "        f = os.path.join(ROOT, 'data_batch_%d' % (b, ))\n",
    "        X, Y = load_CIFAR_batch(f)\n",
    "        xs.append(X)\n",
    "        ys.append(Y) \n",
    "    \n",
    "    # to return\n",
    "    Xtr = np.concatenate(xs)\n",
    "    Ytr = np.concatenate(ys)\n",
    "    del X, Y\n",
    "\n",
    "    # load test batch and return\n",
    "    Xte, Yte = load_CIFAR_batch(os.path.join(ROOT, 'test_batch'))\n",
    "    return Xtr, Ytr, Xte, Yte\n",
    "\n",
    "# actually call function:\n",
    "tic = time.time()\n",
    "cifar10_dir = 'cifar-10-batches-py'\n",
    "X_train, y_train, X_test, y_test = load_CIFAR10(cifar10_dir)\n",
    "toc = time.time()\n",
    "\n",
    "print(\"DataSet Loaded! => \", (toc-tic), \"s\")\n",
    "\n",
    "# for zero-centering, we must subtract mean from training & testing set\n",
    "mean_image = np.mean(X_train, axis=0)\n",
    "X_train -= mean_image\n",
    "X_test  -= mean_image\n",
    "\n",
    "# reshape images to be 1D: -> stretched out\n",
    "X_train = X_train.reshape(X_train.shape[0], 3*32*32)\n",
    "X_test = X_test.reshape(X_test.shape[0], 3*32*32)\n",
    "\n",
    "# sample to reduce execution time\n",
    "#indices = np.random.choice(np.arange(y_train.shape[0]), 5000, replace = False)\n",
    "#X_train = X_train[indices]\n",
    "#y_train = y_train[indices]\n",
    "\n",
    "num_classes=10;"
   ]
  },
  {
   "cell_type": "code",
   "execution_count": 65,
   "metadata": {},
   "outputs": [
    {
     "name": "stdout",
     "output_type": "stream",
     "text": [
      "[[ 0.8062065   0.48177982  0.36350036 ...  0.6920938   0.44151751\n",
      "   1.55343246]\n",
      " [ 0.79552911  0.48585891  0.37335772 ...  0.69245961  0.44604468\n",
      "   1.55343246]\n",
      " [ 0.79682547  0.48264846  0.38392253 ...  0.69282557  0.45150528\n",
      "   1.55343246]\n",
      " ...\n",
      " [ 0.79024439  0.48522866  0.45580745 ...  0.76478156  0.54596103\n",
      "  32.01320328]\n",
      " [ 0.80733     0.48330399  0.33684759 ...  0.76193241  0.52971053\n",
      "  32.01320328]\n",
      " [ 0.87229261  0.49004708  0.28896632 ...  0.76232764  0.54163748\n",
      "  32.01320328]]\n",
      "[[ 0.77321885  0.4786382   0.48770415 ...  0.79382989  0.44219878\n",
      "   2.60376939]\n",
      " [ 0.80351995  0.48926957  0.37801877 ...  0.79860039  0.41497435\n",
      "   2.60376939]\n",
      " [ 0.79244741  0.47573382  0.37899647 ...  0.79727708  0.4197553\n",
      "   2.60376939]\n",
      " ...\n",
      " [ 0.87067784  0.53468698  0.38147917 ...  0.79139073  0.69339931\n",
      "  25.71118173]\n",
      " [ 0.75264911  0.52249197  0.40173914 ...  0.78120544  0.70009979\n",
      "  25.71118173]\n",
      " [ 0.66445585  0.48373099  0.35917999 ...  0.78031746  0.70066748\n",
      "  25.71118173]]\n",
      "[2. 2. 2. ... 5. 5. 5.]\n",
      "[2. 2. 2. ... 5. 5. 5.]\n"
     ]
    }
   ],
   "source": [
    "train_df = pd.read_csv(\"train.csv\")\n",
    "train_df.Activity = train_df.Activity.map({\"LAYING\":0, \"SITTING\":1, \"STANDING\":2, \"WALKING\":3, \"WALKING_DOWNSTAIRS\":4, \"WALKING_UPSTAIRS\":5} )\n",
    "test_df = pd.read_csv(\"test.csv\")\n",
    "test_df.Activity = test_df.Activity.map({\"LAYING\":0, \"SITTING\":1, \"STANDING\":2, \"WALKING\":3, \"WALKING_DOWNSTAIRS\":4, \"WALKING_UPSTAIRS\":5} )\n",
    "\n",
    "num_classes = 6\n",
    "\n",
    "train_np = train_df.to_numpy()\n",
    "X_train = train_np[:,:-1]\n",
    "y_train = train_np[:,-1]\n",
    "\n",
    "test_np = test_df.to_numpy()\n",
    "X_test = test_np[:,:-1]\n",
    "y_test = test_np[:,-1]\n",
    "\n",
    "X_merged = X_train\n",
    "X_merged = np.concatenate((X_merged, X_test), axis=0)\n",
    "mean = np.mean(X_merged)\n",
    "std = np.std(X_merged)\n",
    "X_train -= mean\n",
    "X_test -= mean\n",
    "X_train /= std\n",
    "X_test /= std\n",
    "\n",
    "print(X_train)\n",
    "print(X_test) \n",
    "print(y_train)\n",
    "print(y_test)"
   ]
  },
  {
   "cell_type": "code",
   "execution_count": 66,
   "metadata": {},
   "outputs": [
    {
     "name": "stdout",
     "output_type": "stream",
     "text": [
      "(135, 4)\n",
      "(15, 4)\n"
     ]
    }
   ],
   "source": [
    "df = pd.read_csv(\"Iris.csv\")\n",
    "df.label = df.label.map({\"Iris-setosa\":0,\"Iris-versicolor\":1,\"Iris-virginica\":2})\n",
    "df = df.to_numpy()\n",
    "\n",
    "num_classes = 3\n",
    "mask = int(df.shape[0]*0.9)\n",
    "\n",
    "X_train = df[:mask,:-1]\n",
    "y_train = df[:mask,-1]\n",
    "\n",
    "X_test = df[mask:,:-1]\n",
    "y_test = df[mask:,-1]\n",
    "\n",
    "print(X_train.shape)\n",
    "print(X_test.shape)\n"
   ]
  },
  {
   "cell_type": "markdown",
   "metadata": {},
   "source": [
    "### 0. Default -> Practice\n",
    "taking too long :("
   ]
  },
  {
   "cell_type": "code",
   "execution_count": 3,
   "metadata": {},
   "outputs": [
    {
     "data": {
      "text/plain": [
       "'tic = time.time()\\nclf = svm.SVC()\\nclf.fit(X_train, y_train)\\ntoc = time.time()\\n\\nprint(\"Training time => %ds\" % (toc-tic))\\n\\ntic = time.time()\\ny_test_pred = clf.predict(X_test)\\naccuracy = np.mean(y_test_pred == y_test)\\ntoc = time.time()\\n\\nprint(\"Training time => %ds\" % (toc-tic))\\nprint(\"Accuracy => %d%\" % (accuracy*100))'"
      ]
     },
     "execution_count": 3,
     "metadata": {},
     "output_type": "execute_result"
    }
   ],
   "source": [
    "'''tic = time.time()\n",
    "clf = svm.SVC()\n",
    "clf.fit(X_train, y_train)\n",
    "toc = time.time()\n",
    "\n",
    "print(\"Training time => %ds\" % (toc-tic))\n",
    "\n",
    "tic = time.time()\n",
    "y_test_pred = clf.predict(X_test)\n",
    "accuracy = np.mean(y_test_pred == y_test)\n",
    "toc = time.time()\n",
    "\n",
    "print(\"Training time => %ds\" % (toc-tic))\n",
    "print(\"Accuracy => %d%\" % (accuracy*100))'''"
   ]
  },
  {
   "cell_type": "markdown",
   "metadata": {},
   "source": [
    "### 1. One Against All\n",
    "We need 10 binary svms\n",
    "- For each clas (0-9), we create a new y_train \n",
    "    - this has values = 1 for the class and 0 for the others\n",
    "    - Train with this new y_train\n",
    "    \n",
    "- For testing:\n",
    "    - Test each image against each svm, and record highest value in y_test_pred"
   ]
  },
  {
   "cell_type": "code",
   "execution_count": 67,
   "metadata": {},
   "outputs": [
    {
     "name": "stdout",
     "output_type": "stream",
     "text": [
      "Time to train for class  0   => 0s\n",
      "Time to train for class  1   => 0s\n",
      "Time to train for class  2   => 0s\n",
      "Total training time => 0s\n"
     ]
    }
   ],
   "source": [
    "# training:\n",
    "# create svms list\n",
    "OAASvms = []\n",
    "\n",
    "# for each class:\n",
    "tic = time.time()\n",
    "for i in range(num_classes):\n",
    "    # get new y_train (x_train is same) and train new svm\n",
    "    new_y_train = []\n",
    "    for j in y_train:\n",
    "        if j == i:\n",
    "            new_y_train.append(1)\n",
    "        else:\n",
    "            new_y_train.append(0)\n",
    "                                \n",
    "    tic1 = time.time()\n",
    "    new_svm = svm.SVC(kernel='linear')\n",
    "    new_svm.fit(X_train, new_y_train)\n",
    "    toc1 = time.time()\n",
    "    \n",
    "    print(\"Time to train for class \", i, \"  => %ds\" % (toc1-tic1))\n",
    "    \n",
    "    # append to list\n",
    "    OAASvms.append(new_svm)\n",
    "toc = time.time()\n",
    "\n",
    "print(\"Total training time => %ds\" % (toc-tic))"
   ]
  },
  {
   "cell_type": "code",
   "execution_count": 68,
   "metadata": {
    "scrolled": true
   },
   "outputs": [
    {
     "name": "stdout",
     "output_type": "stream",
     "text": [
      "(135, 4)\n",
      "(15, 4)\n"
     ]
    }
   ],
   "source": [
    "df = pd.read_csv(\"Iris.csv\")\n",
    "df.label = df.label.map({\"Iris-setosa\":0,\"Iris-versicolor\":1,\"Iris-virginica\":2})\n",
    "df = df.to_numpy()\n",
    "\n",
    "num_classes = 3\n",
    "mask = int(df.shape[0]*0.9)\n",
    "\n",
    "X_train = df[:mask,:-1]\n",
    "y_train = df[:mask,-1]\n",
    "\n",
    "X_test = df[mask:,:-1]\n",
    "y_test = df[mask:,-1]\n",
    "\n",
    "print(X_train.shape)\n",
    "print(X_test.shape)\n"
   ]
  },
  {
   "cell_type": "code",
   "execution_count": 69,
   "metadata": {},
   "outputs": [
    {
     "name": "stdout",
     "output_type": "stream",
     "text": [
      "Testing time => 0s\n",
      "Accuracy     => 100.000000\n"
     ]
    }
   ],
   "source": [
    "# predict:\n",
    "y_pred = []\n",
    "\n",
    "# for each image\n",
    "tic = time.time()\n",
    "for sample in X_test:\n",
    "    # for each svm\n",
    "    maxval = -100\n",
    "    predictedclass = -1;\n",
    "    for idx, this_svm in enumerate(OAASvms):\n",
    "        val = np.dot(this_svm.coef_, sample) + this_svm.intercept_\n",
    "        \n",
    "        if val > maxval:\n",
    "            maxval = val\n",
    "            predictedclass = idx\n",
    "    \n",
    "    y_pred.append(predictedclass)\n",
    "toc = time.time()\n",
    "\n",
    "# check overall accuracy\n",
    "accuracy = np.mean(y_pred == y_test)\n",
    "print(\"Testing time => %ds\" % (toc-tic))\n",
    "print(\"Accuracy     => %f\" % (accuracy*100))"
   ]
  },
  {
   "cell_type": "code",
   "execution_count": 70,
   "metadata": {},
   "outputs": [
    {
     "name": "stdout",
     "output_type": "stream",
     "text": [
      "(135, 4)\n",
      "(15, 4)\n"
     ]
    }
   ],
   "source": [
    "df = pd.read_csv(\"Iris.csv\")\n",
    "df.label = df.label.map({\"Iris-setosa\":0,\"Iris-versicolor\":1,\"Iris-virginica\":2})\n",
    "df = df.to_numpy()\n",
    "\n",
    "num_classes = 3\n",
    "mask = int(df.shape[0]*0.9)\n",
    "\n",
    "X_train = df[:mask,:-1]\n",
    "y_train = df[:mask,-1]\n",
    "\n",
    "X_test = df[mask:,:-1]\n",
    "y_test = df[mask:,-1]\n",
    "\n",
    "print(X_train.shape)\n",
    "print(X_test.shape)\n"
   ]
  },
  {
   "cell_type": "markdown",
   "metadata": {},
   "source": [
    "### 2. One Against One\n",
    "We need (10*9)/2 binary svms\n",
    "- For each pair of classes a and b, we create a classifier:  \n",
    "    - this has values = 1 for the class i and 0 for the class j\n",
    "    - other classes are removed from consideration\n",
    "    - Train with this new y_train\n",
    "    \n",
    "- For testing:\n",
    "    - Test each image against each svm, and record highest value in y_test_pred"
   ]
  },
  {
   "cell_type": "code",
   "execution_count": 71,
   "metadata": {},
   "outputs": [
    {
     "name": "stdout",
     "output_type": "stream",
     "text": [
      "Time to train for class  1 0   => 0s\n",
      "Time to train for class  2 0   => 0s\n",
      "Time to train for class  2 1   => 0s\n",
      "Total training time => 0s\n"
     ]
    }
   ],
   "source": [
    "# training:\n",
    "# create svms list\n",
    "rows, cols = (num_classes, num_classes) \n",
    "OAOSvms = [[None]*cols]*rows \n",
    "\n",
    "# for each class:\n",
    "tic = time.time()\n",
    "for a in range(1,num_classes):\n",
    "    for b in range(a):\n",
    "        # get new y_train (x_train is same) and train new svm\n",
    "        new_y_train = []\n",
    "        new_x_train_indices = []\n",
    "        for idx, j in enumerate(y_train):\n",
    "            if j == a:\n",
    "                new_y_train.append(1)\n",
    "                new_x_train_indices.append(idx)\n",
    "            elif j == b:\n",
    "                new_y_train.append(0)\n",
    "                new_x_train_indices.append(idx)\n",
    "        new_x_train = X_train[new_x_train_indices]\n",
    "                \n",
    "        tic1 = time.time()\n",
    "        new_svm = svm.SVC(kernel='linear')\n",
    "        new_svm.fit(new_x_train, new_y_train)\n",
    "        toc1 = time.time()\n",
    "\n",
    "        print(\"Time to train for class \",a,b, \"  => %ds\" % (toc1-tic1))\n",
    "\n",
    "        # append to list\n",
    "        OAOSvms[a][b] = new_svm\n",
    "toc = time.time()\n",
    "\n",
    "print(\"Total training time => %ds\" % (toc-tic))"
   ]
  },
  {
   "cell_type": "code",
   "execution_count": 72,
   "metadata": {},
   "outputs": [
    {
     "name": "stdout",
     "output_type": "stream",
     "text": [
      "1 0 [0. 1. 0.] 1\n",
      "2 0 [0. 1. 1.] 1\n",
      "2 1 [0. 1. 2.] 1\n",
      "[0. 1. 2.]\n",
      "2.0\n",
      "Testing time => 0.004097s\n",
      "Accuracy     => 93.333333\n"
     ]
    }
   ],
   "source": [
    "# predict:\n",
    "y_pred = []\n",
    "\n",
    "\n",
    "# for each image\n",
    "tic = time.time()\n",
    "'''for idx, sample in enumerate(X_test):\n",
    "    if (idx == 2):\n",
    "        break\n",
    "    \n",
    "    # for each svm\n",
    "    maxval = -100\n",
    "    count = np.zeros(num_classes);\n",
    "    \n",
    "\n",
    "    \n",
    "    # max count is predicted class\n",
    "    predictedclass = np.where(count == np.amax(count))\n",
    "    \n",
    "    y_pred.append(predictedclass)'''\n",
    "# voting by every svm\n",
    "vote_counts = np.zeros((X_test.shape[0],num_classes))\n",
    "for a in range(1,num_classes):\n",
    "    for b in range(a):\n",
    "        this_svm = OAOSvms[a][b]\n",
    "        pred = this_svm.predict(X_test)\n",
    "        \n",
    "        b_indices = np.where(pred == 0)\n",
    "        a_indices = np.where(pred == 1)\n",
    "        \n",
    "        a_additive = np.zeros(num_classes)\n",
    "        b_additive = np.zeros(num_classes)\n",
    "        a_additive[a] = 1;\n",
    "        b_additive[b] = 1;\n",
    "\n",
    "        vote_counts[b_indices] += b_additive\n",
    "        vote_counts[a_indices] += a_additive\n",
    "        \n",
    "        print(a,b,vote_counts[0], pred[0])\n",
    "        \n",
    "\n",
    "# take max over columns $$\n",
    "print(vote_counts[0])\n",
    "print(y_test[0])\n",
    "y_pred = []\n",
    "for i in vote_counts:\n",
    "    pos = np.where(i == np.amax(i))\n",
    "    y_pred.append(pos)\n",
    "\n",
    "toc = time.time()\n",
    "\n",
    "# check overall accuracy\n",
    "accuracy = np.mean(y_pred == y_test)\n",
    "print(\"Testing time => %fs\" % (toc-tic))\n",
    "print(\"Accuracy     => %f\" % (accuracy*100))"
   ]
  },
  {
   "cell_type": "code",
   "execution_count": 73,
   "metadata": {},
   "outputs": [
    {
     "name": "stdout",
     "output_type": "stream",
     "text": [
      "Testing time => 0.004813s\n",
      "Accuracy     => 93.333333\n"
     ]
    }
   ],
   "source": [
    "\n",
    "# iterative function to test abocve implementation\n",
    "def getClassOAO(sample, target):\n",
    "    votes = np.zeros(num_classes)\n",
    "    \n",
    "    for a in range(1,num_classes):\n",
    "        for b in range(a):\n",
    "            this_svm = OAOSvms[a][b]\n",
    "            pred = this_svm.predict(sample)\n",
    "            \n",
    "            if pred == 1:\n",
    "                votes[a] += 1\n",
    "            else:\n",
    "                votes[b] += 1\n",
    "                \n",
    "    return np.where(votes == np.amax(votes))\n",
    "\n",
    "# predict:\n",
    "y_pred = []\n",
    "\n",
    "# for each image\n",
    "tic = time.time()\n",
    "for idx, sample in enumerate(X_test):\n",
    "    y_pred.append(getClassOAO(sample.reshape(1, -1), y_test[idx]))\n",
    "\n",
    "toc = time.time()\n",
    "\n",
    "# check overall accuracy\n",
    "accuracy = np.mean(y_pred == y_test)\n",
    "print(\"Testing time => %fs\" % (toc-tic))\n",
    "print(\"Accuracy     => %f\" % (accuracy*100))"
   ]
  },
  {
   "cell_type": "markdown",
   "metadata": {},
   "source": [
    "### 3. DAG \n",
    "We need (10*9)/2 binary svms again\n",
    "- For each pair of classes a and b, we create a classifier:  (same as OAO)\n",
    "    - this has values = 1 for the class i and 0 for the class j\n",
    "    - other classes are removed from consideration\n",
    "    - Train with this new y_train\n",
    "    \n",
    "- For testing: \n",
    "    - Test 1xn, then if it favours discard 1 and test against 1x(n-1), etc."
   ]
  },
  {
   "cell_type": "code",
   "execution_count": 76,
   "metadata": {},
   "outputs": [
    {
     "name": "stdout",
     "output_type": "stream",
     "text": [
      "Testing time => 0s\n",
      "Accuracy     => 93.333333\n"
     ]
    }
   ],
   "source": [
    "# iterative function to eliminate one class each time\n",
    "def getClass(sample, target):\n",
    "    curr_b = 0\n",
    "    curr_a = num_classes-1\n",
    "    \n",
    "    # stopping condition is when we reach only one number\n",
    "    while (curr_a != curr_b):\n",
    "        this_svm = OAOSvms[curr_a][curr_b];\n",
    "        pred = this_svm.predict(sample)\n",
    "        \n",
    "        # if favours a, remove b\n",
    "        if (pred == 1):\n",
    "            curr_b += 1;\n",
    "        else:\n",
    "            curr_a -= 1;\n",
    "        \n",
    "    return curr_a\n",
    "\n",
    "# predict:\n",
    "y_pred_DAG = []\n",
    "\n",
    "# for each image\n",
    "tic = time.time()\n",
    "for idx, sample in enumerate(X_test):\n",
    "    y_pred_DAG.append(getClass(sample.reshape(1, -1), y_test[idx]))\n",
    "\n",
    "toc = time.time()\n",
    "\n",
    "# check overall accuracy\n",
    "accuracy = np.mean(y_pred_DAG == y_test)\n",
    "print(\"Testing time => %ds\" % (toc-tic))\n",
    "print(\"Accuracy     => %f\" % (accuracy*100))"
   ]
  },
  {
   "cell_type": "code",
   "execution_count": null,
   "metadata": {},
   "outputs": [],
   "source": []
  }
 ],
 "metadata": {
  "kernelspec": {
   "display_name": "Python 3",
   "language": "python",
   "name": "python3"
  },
  "language_info": {
   "codemirror_mode": {
    "name": "ipython",
    "version": 3
   },
   "file_extension": ".py",
   "mimetype": "text/x-python",
   "name": "python",
   "nbconvert_exporter": "python",
   "pygments_lexer": "ipython3",
   "version": "3.7.4"
  }
 },
 "nbformat": 4,
 "nbformat_minor": 2
}
